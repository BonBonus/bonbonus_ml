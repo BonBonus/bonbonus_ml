{
 "cells": [
  {
   "cell_type": "code",
   "execution_count": 1,
   "metadata": {},
   "outputs": [],
   "source": [
    "%load_ext autoreload\n",
    "%autoreload 2"
   ]
  },
  {
   "cell_type": "code",
   "execution_count": 2,
   "metadata": {},
   "outputs": [],
   "source": [
    "from sklearn.linear_model import SGDRegressor\n",
    "from random import sample\n",
    "from functools import lru_cache\n",
    "import pandas as pd\n",
    "import numpy as np\n",
    "import matplotlib.pyplot as plt\n",
    "import re\n",
    "from tqdm import tqdm\n",
    "import random\n",
    "\n",
    "from sklearn.datasets import make_classification\n",
    "from sklearn.preprocessing import minmax_scale\n",
    "from scipy.stats import truncnorm\n",
    "from scipy.stats import skewnorm\n",
    "\n",
    "from sklearn.ensemble import GradientBoostingClassifier\n",
    "from sklearn.ensemble import RandomForestClassifier\n",
    "from sklearn.neighbors import NearestNeighbors\n",
    "from sklearn.pipeline import Pipeline\n",
    "from sklearn.preprocessing import StandardScaler\n",
    "\n",
    "from utils import ServiceParams, vectorize_for_bonus_predict, vectorize_for_neighbours_predict, predict_neighbours, predict_bonus\n",
    "\n",
    "import pickle\n",
    "import zipfile\n",
    "\n",
    "from collections import Counter\n",
    "\n",
    "SEED = 42\n",
    "\n",
    "random.seed(SEED)\n",
    "np.random.seed(SEED)"
   ]
  },
  {
   "cell_type": "code",
   "execution_count": 3,
   "metadata": {},
   "outputs": [],
   "source": [
    "train_dataset_len = 20_000\n",
    "test_dataset_len = 5000"
   ]
  },
  {
   "cell_type": "code",
   "execution_count": 4,
   "metadata": {},
   "outputs": [
    {
     "data": {
      "text/plain": [
       "(array([9.000e+00, 3.010e+02, 9.250e+02, 0.000e+00, 1.021e+03, 9.770e+02,\n",
       "        9.900e+02, 0.000e+00, 9.780e+02, 9.230e+02, 0.000e+00, 9.010e+02,\n",
       "        9.290e+02, 8.570e+02, 0.000e+00, 8.630e+02, 7.890e+02, 0.000e+00,\n",
       "        7.670e+02, 7.830e+02, 6.870e+02, 0.000e+00, 6.760e+02, 5.870e+02,\n",
       "        0.000e+00, 5.530e+02, 5.510e+02, 4.820e+02, 0.000e+00, 4.640e+02,\n",
       "        4.100e+02, 3.960e+02, 0.000e+00, 3.790e+02, 3.120e+02, 0.000e+00,\n",
       "        3.310e+02, 2.450e+02, 2.290e+02, 0.000e+00, 2.220e+02, 1.840e+02,\n",
       "        0.000e+00, 1.550e+02, 1.720e+02, 1.280e+02, 0.000e+00, 1.140e+02,\n",
       "        9.600e+01, 0.000e+00, 1.110e+02, 5.400e+01, 6.400e+01, 0.000e+00,\n",
       "        6.000e+01, 4.800e+01, 4.100e+01, 0.000e+00, 3.500e+01, 2.600e+01,\n",
       "        0.000e+00, 3.300e+01, 1.900e+01, 2.500e+01, 0.000e+00, 1.500e+01,\n",
       "        2.700e+01, 0.000e+00, 8.000e+00, 1.300e+01, 6.000e+00, 0.000e+00,\n",
       "        3.000e+00, 8.000e+00, 0.000e+00, 6.000e+00, 1.000e+00, 0.000e+00,\n",
       "        0.000e+00, 2.000e+00, 0.000e+00, 2.000e+00, 0.000e+00, 0.000e+00,\n",
       "        2.000e+00, 0.000e+00, 1.000e+00, 1.000e+00, 2.000e+00, 0.000e+00,\n",
       "        0.000e+00, 0.000e+00, 0.000e+00, 0.000e+00, 0.000e+00, 0.000e+00,\n",
       "        0.000e+00, 0.000e+00, 0.000e+00, 1.000e+00]),\n",
       " array([18.  , 18.72, 19.44, 20.16, 20.88, 21.6 , 22.32, 23.04, 23.76,\n",
       "        24.48, 25.2 , 25.92, 26.64, 27.36, 28.08, 28.8 , 29.52, 30.24,\n",
       "        30.96, 31.68, 32.4 , 33.12, 33.84, 34.56, 35.28, 36.  , 36.72,\n",
       "        37.44, 38.16, 38.88, 39.6 , 40.32, 41.04, 41.76, 42.48, 43.2 ,\n",
       "        43.92, 44.64, 45.36, 46.08, 46.8 , 47.52, 48.24, 48.96, 49.68,\n",
       "        50.4 , 51.12, 51.84, 52.56, 53.28, 54.  , 54.72, 55.44, 56.16,\n",
       "        56.88, 57.6 , 58.32, 59.04, 59.76, 60.48, 61.2 , 61.92, 62.64,\n",
       "        63.36, 64.08, 64.8 , 65.52, 66.24, 66.96, 67.68, 68.4 , 69.12,\n",
       "        69.84, 70.56, 71.28, 72.  , 72.72, 73.44, 74.16, 74.88, 75.6 ,\n",
       "        76.32, 77.04, 77.76, 78.48, 79.2 , 79.92, 80.64, 81.36, 82.08,\n",
       "        82.8 , 83.52, 84.24, 84.96, 85.68, 86.4 , 87.12, 87.84, 88.56,\n",
       "        89.28, 90.  ]),\n",
       " <BarContainer object of 100 artists>)"
      ]
     },
     "execution_count": 4,
     "metadata": {},
     "output_type": "execute_result"
    },
    {
     "data": {
      "image/png": "[encoded data removed]",
      "text/plain": [
       "<Figure size 640x480 with 1 Axes>"
      ]
     },
     "metadata": {},
     "output_type": "display_data"
    }
   ],
   "source": [
    "skewness = 30\n",
    "\n",
    "age = skewnorm.rvs(a = skewness, size=train_dataset_len)\n",
    "age = minmax_scale(age, feature_range=(18, 90))\n",
    "age = age.round()\n",
    "df_train = pd.DataFrame(age, columns=['age'])\n",
    "\n",
    "age = skewnorm.rvs(a = skewness, size=test_dataset_len)\n",
    "age = minmax_scale(age, feature_range=(18, 90))\n",
    "age = age.round()\n",
    "df_test = pd.DataFrame(age, columns=['age'])\n",
    "\n",
    "plt.hist(df_train.age, bins=100)"
   ]
  },
  {
   "cell_type": "code",
   "execution_count": 5,
   "metadata": {},
   "outputs": [
    {
     "data": {
      "text/plain": [
       "{0: 'electronics',\n",
       " 1: 'fashion',\n",
       " 2: 'beauty and personal care',\n",
       " 3: 'home and kitchen',\n",
       " 4: 'sports and fitness',\n",
       " 5: 'toys and games',\n",
       " 6: 'books and media',\n",
       " 7: 'food and beverages',\n",
       " 8: 'health and wellness',\n",
       " 9: 'automotive',\n",
       " 10: 'pet supplies',\n",
       " 11: 'office supplies',\n",
       " 12: 'music',\n",
       " 13: 'travel and leisure',\n",
       " 14: 'art and crafts',\n",
       " 15: 'garden and outdoor',\n",
       " 16: 'baby and kids',\n",
       " 17: 'industrial and scientific',\n",
       " 18: 'party supplies',\n",
       " 19: 'education and learning'}"
      ]
     },
     "execution_count": 5,
     "metadata": {},
     "output_type": "execute_result"
    }
   ],
   "source": [
    "# Service engage type\n",
    "merchant_mcc_and_description = [\n",
    "    \"Electronics: Products such as smartphones, laptops, tablets, TVs, and gaming consoles\",\n",
    "    \"Fashion: Clothing, shoes, handbags, accessories, and jewelry\",\n",
    "    \"Beauty and personal care: Makeup, skincare, haircare, and grooming products\",\n",
    "    \"Home and kitchen: Appliances, furniture, home decor, and cookware\",\n",
    "    \"Sports and fitness: Athletic clothing, equipment, and supplements\",\n",
    "    \"Toys and games: Board games, puzzles, action figures, and dolls\",\n",
    "    \"Books and media: Fiction and non-fiction books, magazines, and DVDs\",\n",
    "    \"Food and beverages: Snacks, drinks, and packaged foods\",\n",
    "    \"Health and wellness: Vitamins, supplements, and medical devices\",\n",
    "    \"Automotive: Cars, motorcycles, bicycles, and accessories\",\n",
    "    \"Pet supplies: Products such as food, toys, and accessories for dogs, cats, and other pets\",\n",
    "    \"Office supplies: Stationery, printers, and office furniture\",\n",
    "    \"Music: Instruments, sheet music, and audio equipment\",\n",
    "    \"Travel and leisure: Luggage, travel accessories, and camping gear\",\n",
    "    \"Art and crafts: Supplies for drawing, painting, and crafting\",\n",
    "    \"Garden and outdoor: Tools, planters, and outdoor furniture\",\n",
    "    \"Baby and kids: Clothing, toys, and baby gear\",\n",
    "    \"Industrial and scientific: Laboratory equipment, machinery, and scientific instruments\",\n",
    "    \"Party supplies: Decorations, party favors, and supplies for hosting events\",\n",
    "    \"Education and learning: Products such as textbooks, online courses, educational toys, and educational software for learners of all ages\"\n",
    "]\n",
    "\n",
    "merchant_mcc = ['electronics',\n",
    " 'fashion',\n",
    " 'beauty and personal care',\n",
    " 'home and kitchen',\n",
    " 'sports and fitness',\n",
    " 'toys and games',\n",
    " 'books and media',\n",
    " 'food and beverages',\n",
    " 'health and wellness',\n",
    " 'automotive',\n",
    " 'pet supplies',\n",
    " 'office supplies',\n",
    " 'music',\n",
    " 'travel and leisure',\n",
    " 'art and crafts',\n",
    " 'garden and outdoor',\n",
    " 'baby and kids',\n",
    " 'industrial and scientific',\n",
    " 'party supplies',\n",
    " 'education and learning']\n",
    "\n",
    "bonus_type = [\n",
    "    'welcome',\n",
    "    'loyalty',\n",
    "    'discount',\n",
    "    'cashback',\n",
    "    'up-sell',\n",
    "    'small-gift',\n",
    "    'big-gift',\n",
    "    'early-access',\n",
    "]\n",
    "\n",
    "merchant_id_to_amount_range = {\n",
    "    0: ['electronics', range(50, 10_000)],\n",
    "    1: ['fashion', range(10, 10_000)],\n",
    "    2: ['beauty and personal care', range(5, 500)],\n",
    "    3: ['home and kitchen', range(10, 20_000)],\n",
    "    4: ['sports and fitness', range(5, 5_000)],\n",
    "    5: ['toys and games', range(5, 1000)],\n",
    "    6: ['books and media', range(5, 1000)],\n",
    "    7: ['food and beverages', range(1, 100)],\n",
    "    8: ['health and wellness', range(5, 1000)],\n",
    "    9: ['automotive', range(5_000, 100_000)],\n",
    "    10: ['pet supplies', range(5, 1000)],\n",
    "    11: ['office supplies', range(1, 10_000)],\n",
    "    12: ['music', range(50, 10_000)],\n",
    "    13: ['travel and leisure', range(50, 10_000)],\n",
    "    14: ['art and crafts', range(5, 1000)],\n",
    "    15: ['garden and outdoor', range(10, 20_000)],\n",
    "    16: ['baby and kids', range(5, 1_000)],\n",
    "    17: ['industrial and scientific', range(10, 100_000)],\n",
    "    18: ['party supplies', range(5, 1_000)],\n",
    "    19: ['education and learning', range(10, 10_000)]\n",
    " }\n",
    "\n",
    "merchant_id_to_amount_range = {\n",
    "    0: ['electronics', range(50, 10_000)],\n",
    "    1: ['fashion', range(10, 10_000)],\n",
    "    2: ['beauty and personal care', range(5, 500)],\n",
    "    3: ['home and kitchen', range(10, 20_000)],\n",
    "    4: ['sports and fitness', range(5, 5_000)],\n",
    "    5: ['toys and games', range(5, 1000)],\n",
    "    6: ['books and media', range(5, 1000)],\n",
    "    7: ['food and beverages', range(1, 100)],\n",
    "    8: ['health and wellness', range(5, 1000)],\n",
    "    9: ['automotive', range(5_000, 100_000)],\n",
    "    10: ['pet supplies', range(5, 1000)],\n",
    "    11: ['office supplies', range(1, 10_000)],\n",
    "    12: ['music', range(50, 10_000)],\n",
    "    13: ['travel and leisure', range(50, 10_000)],\n",
    "    14: ['art and crafts', range(5, 1000)],\n",
    "    15: ['garden and outdoor', range(10, 20_000)],\n",
    "    16: ['baby and kids', range(5, 1_000)],\n",
    "    17: ['industrial and scientific', range(10, 100_000)],\n",
    "    18: ['party supplies', range(5, 1_000)],\n",
    "    19: ['education and learning', range(10, 10_000)]\n",
    " }\n",
    "\n",
    "id2merchantName = { i : desc for i, desc in enumerate(merchant_mcc) }\n",
    "merchantName2id = { desc : i for i, desc in enumerate(merchant_mcc) }\n",
    "id2bonusName = { i : desc for i, desc in enumerate(bonus_type) }\n",
    "bonusName2id = { desc : i for i, desc in enumerate(bonus_type) }\n",
    "id2merchantName"
   ]
  },
  {
   "cell_type": "code",
   "execution_count": 6,
   "metadata": {},
   "outputs": [],
   "source": [
    "def get_truncated_normal(mean=0, sd=1, low=0, upp=10):\n",
    "    return truncnorm(\n",
    "        (low - mean) / sd, (upp - mean) / sd, loc=mean, scale=sd)"
   ]
  },
  {
   "cell_type": "code",
   "execution_count": 7,
   "metadata": {},
   "outputs": [
    {
     "data": {
      "text/html": [
       "<div>\n",
       "<style scoped>\n",
       "    .dataframe tbody tr th:only-of-type {\n",
       "        vertical-align: middle;\n",
       "    }\n",
       "\n",
       "    .dataframe tbody tr th {\n",
       "        vertical-align: top;\n",
       "    }\n",
       "\n",
       "    .dataframe thead th {\n",
       "        text-align: right;\n",
       "    }\n",
       "</style>\n",
       "<table border=\"1\" class=\"dataframe\">\n",
       "  <thead>\n",
       "    <tr style=\"text-align: right;\">\n",
       "      <th></th>\n",
       "      <th>merchant_mcc</th>\n",
       "      <th>bonuses_available</th>\n",
       "    </tr>\n",
       "  </thead>\n",
       "  <tbody>\n",
       "    <tr>\n",
       "      <th>0</th>\n",
       "      <td>home and kitchen</td>\n",
       "      <td>[]</td>\n",
       "    </tr>\n",
       "    <tr>\n",
       "      <th>1</th>\n",
       "      <td>health and wellness</td>\n",
       "      <td>[cashback, loyalty, small-gift]</td>\n",
       "    </tr>\n",
       "    <tr>\n",
       "      <th>2</th>\n",
       "      <td>home and kitchen</td>\n",
       "      <td>[loyalty, up-sell, cashback, welcome, big-gift...</td>\n",
       "    </tr>\n",
       "    <tr>\n",
       "      <th>3</th>\n",
       "      <td>baby and kids</td>\n",
       "      <td>[]</td>\n",
       "    </tr>\n",
       "    <tr>\n",
       "      <th>4</th>\n",
       "      <td>industrial and scientific</td>\n",
       "      <td>[big-gift, loyalty, cashback]</td>\n",
       "    </tr>\n",
       "    <tr>\n",
       "      <th>...</th>\n",
       "      <td>...</td>\n",
       "      <td>...</td>\n",
       "    </tr>\n",
       "    <tr>\n",
       "      <th>995</th>\n",
       "      <td>baby and kids</td>\n",
       "      <td>[cashback, small-gift]</td>\n",
       "    </tr>\n",
       "    <tr>\n",
       "      <th>996</th>\n",
       "      <td>fashion</td>\n",
       "      <td>[big-gift, small-gift, up-sell, welcome, early...</td>\n",
       "    </tr>\n",
       "    <tr>\n",
       "      <th>997</th>\n",
       "      <td>education and learning</td>\n",
       "      <td>[small-gift]</td>\n",
       "    </tr>\n",
       "    <tr>\n",
       "      <th>998</th>\n",
       "      <td>art and crafts</td>\n",
       "      <td>[]</td>\n",
       "    </tr>\n",
       "    <tr>\n",
       "      <th>999</th>\n",
       "      <td>home and kitchen</td>\n",
       "      <td>[up-sell, welcome, early-access, discount, loy...</td>\n",
       "    </tr>\n",
       "  </tbody>\n",
       "</table>\n",
       "<p>1000 rows × 2 columns</p>\n",
       "</div>"
      ],
      "text/plain": [
       "                  merchant_mcc  \\\n",
       "0             home and kitchen   \n",
       "1          health and wellness   \n",
       "2             home and kitchen   \n",
       "3                baby and kids   \n",
       "4    industrial and scientific   \n",
       "..                         ...   \n",
       "995              baby and kids   \n",
       "996                    fashion   \n",
       "997     education and learning   \n",
       "998             art and crafts   \n",
       "999           home and kitchen   \n",
       "\n",
       "                                     bonuses_available  \n",
       "0                                                   []  \n",
       "1                      [cashback, loyalty, small-gift]  \n",
       "2    [loyalty, up-sell, cashback, welcome, big-gift...  \n",
       "3                                                   []  \n",
       "4                        [big-gift, loyalty, cashback]  \n",
       "..                                                 ...  \n",
       "995                             [cashback, small-gift]  \n",
       "996  [big-gift, small-gift, up-sell, welcome, early...  \n",
       "997                                       [small-gift]  \n",
       "998                                                 []  \n",
       "999  [up-sell, welcome, early-access, discount, loy...  \n",
       "\n",
       "[1000 rows x 2 columns]"
      ]
     },
     "execution_count": 7,
     "metadata": {},
     "output_type": "execute_result"
    }
   ],
   "source": [
    "number_of_stores = 1000\n",
    "merchants_df = pd.DataFrame(index=range(0,number_of_stores), columns=['merchant_mcc', 'bonuses_available'])\n",
    "def generate_random_stores(row):\n",
    "    row['merchant_mcc'] = sample(merchant_mcc, 1)[0]\n",
    "    row['bonuses_available'] = sample(bonus_type, random.randint(0, len(bonus_type)))\n",
    "    return row\n",
    "    \n",
    "merchants_df = merchants_df.apply(generate_random_stores, axis=1)\n",
    "merchants_df"
   ]
  },
  {
   "cell_type": "code",
   "execution_count": 41,
   "metadata": {},
   "outputs": [
    {
     "data": {
      "text/html": [
       "<div>\n",
       "<style scoped>\n",
       "    .dataframe tbody tr th:only-of-type {\n",
       "        vertical-align: middle;\n",
       "    }\n",
       "\n",
       "    .dataframe tbody tr th {\n",
       "        vertical-align: top;\n",
       "    }\n",
       "\n",
       "    .dataframe thead th {\n",
       "        text-align: right;\n",
       "    }\n",
       "</style>\n",
       "<table border=\"1\" class=\"dataframe\">\n",
       "  <thead>\n",
       "    <tr style=\"text-align: right;\">\n",
       "      <th></th>\n",
       "      <th>age</th>\n",
       "      <th>purchase_history</th>\n",
       "      <th>rating</th>\n",
       "      <th>current_merchant_id</th>\n",
       "      <th>bonus_to_offer</th>\n",
       "    </tr>\n",
       "  </thead>\n",
       "  <tbody>\n",
       "    <tr>\n",
       "      <th>0</th>\n",
       "      <td>27.0</td>\n",
       "      <td>[[garden and outdoor, 12772.9], [industrial an...</td>\n",
       "      <td>3.952476</td>\n",
       "      <td>554</td>\n",
       "      <td></td>\n",
       "    </tr>\n",
       "    <tr>\n",
       "      <th>1</th>\n",
       "      <td>21.0</td>\n",
       "      <td>[[pet supplies, 882.6], [music, 4702.2], [auto...</td>\n",
       "      <td>3.839845</td>\n",
       "      <td>225</td>\n",
       "      <td>small-gift</td>\n",
       "    </tr>\n",
       "    <tr>\n",
       "      <th>2</th>\n",
       "      <td>29.0</td>\n",
       "      <td>[[health and wellness, 601.6], [toys and games...</td>\n",
       "      <td>4.843120</td>\n",
       "      <td>699</td>\n",
       "      <td></td>\n",
       "    </tr>\n",
       "    <tr>\n",
       "      <th>3</th>\n",
       "      <td>44.0</td>\n",
       "      <td>[[home and kitchen, 7127.1], [health and welln...</td>\n",
       "      <td>3.825687</td>\n",
       "      <td>617</td>\n",
       "      <td></td>\n",
       "    </tr>\n",
       "    <tr>\n",
       "      <th>4</th>\n",
       "      <td>24.0</td>\n",
       "      <td>[[office supplies, 1006.8], [automotive, 34318...</td>\n",
       "      <td>4.822571</td>\n",
       "      <td>942</td>\n",
       "      <td>small-gift</td>\n",
       "    </tr>\n",
       "    <tr>\n",
       "      <th>...</th>\n",
       "      <td>...</td>\n",
       "      <td>...</td>\n",
       "      <td>...</td>\n",
       "      <td>...</td>\n",
       "      <td>...</td>\n",
       "    </tr>\n",
       "    <tr>\n",
       "      <th>19995</th>\n",
       "      <td>26.0</td>\n",
       "      <td>[[party supplies, 894.6], [party supplies, 687...</td>\n",
       "      <td>4.058890</td>\n",
       "      <td>353</td>\n",
       "      <td>up-sell</td>\n",
       "    </tr>\n",
       "    <tr>\n",
       "      <th>19996</th>\n",
       "      <td>41.0</td>\n",
       "      <td>[[toys and games, 811.8], [home and kitchen, 1...</td>\n",
       "      <td>4.517523</td>\n",
       "      <td>919</td>\n",
       "      <td>discount</td>\n",
       "    </tr>\n",
       "    <tr>\n",
       "      <th>19997</th>\n",
       "      <td>26.0</td>\n",
       "      <td>[[automotive, 90115.1]]</td>\n",
       "      <td>4.936572</td>\n",
       "      <td>674</td>\n",
       "      <td>welcome</td>\n",
       "    </tr>\n",
       "    <tr>\n",
       "      <th>19998</th>\n",
       "      <td>47.0</td>\n",
       "      <td>[[travel and leisure, 7725.8], [office supplie...</td>\n",
       "      <td>4.784696</td>\n",
       "      <td>593</td>\n",
       "      <td>welcome</td>\n",
       "    </tr>\n",
       "    <tr>\n",
       "      <th>19999</th>\n",
       "      <td>45.0</td>\n",
       "      <td>[[baby and kids, 414.2], [art and crafts, 109....</td>\n",
       "      <td>3.565647</td>\n",
       "      <td>189</td>\n",
       "      <td></td>\n",
       "    </tr>\n",
       "  </tbody>\n",
       "</table>\n",
       "<p>20000 rows × 5 columns</p>\n",
       "</div>"
      ],
      "text/plain": [
       "        age                                   purchase_history    rating  \\\n",
       "0      27.0  [[garden and outdoor, 12772.9], [industrial an...  3.952476   \n",
       "1      21.0  [[pet supplies, 882.6], [music, 4702.2], [auto...  3.839845   \n",
       "2      29.0  [[health and wellness, 601.6], [toys and games...  4.843120   \n",
       "3      44.0  [[home and kitchen, 7127.1], [health and welln...  3.825687   \n",
       "4      24.0  [[office supplies, 1006.8], [automotive, 34318...  4.822571   \n",
       "...     ...                                                ...       ...   \n",
       "19995  26.0  [[party supplies, 894.6], [party supplies, 687...  4.058890   \n",
       "19996  41.0  [[toys and games, 811.8], [home and kitchen, 1...  4.517523   \n",
       "19997  26.0                            [[automotive, 90115.1]]  4.936572   \n",
       "19998  47.0  [[travel and leisure, 7725.8], [office supplie...  4.784696   \n",
       "19999  45.0  [[baby and kids, 414.2], [art and crafts, 109....  3.565647   \n",
       "\n",
       "       current_merchant_id bonus_to_offer  \n",
       "0                      554                 \n",
       "1                      225     small-gift  \n",
       "2                      699                 \n",
       "3                      617                 \n",
       "4                      942     small-gift  \n",
       "...                    ...            ...  \n",
       "19995                  353        up-sell  \n",
       "19996                  919       discount  \n",
       "19997                  674        welcome  \n",
       "19998                  593        welcome  \n",
       "19999                  189                 \n",
       "\n",
       "[20000 rows x 5 columns]"
      ]
     },
     "execution_count": 41,
     "metadata": {},
     "output_type": "execute_result"
    }
   ],
   "source": [
    "# Purchase history generation {purchase_type, amount} random purchase_type, random amount\n",
    "min_number_purchase = 0\n",
    "max_number_purchase = 50\n",
    "min_amount_bonus_points_available = 0\n",
    "max_amount_bonus_points_available = 99_999_999\n",
    "min_amount_assets_available = 0\n",
    "max_amount_assets_available = 99_999_999\n",
    "min_number_transactions = 0\n",
    "max_number_transactions = 99_999_999\n",
    "\n",
    "random_rating = get_truncated_normal(mean=10, sd=2, low=1, upp=5).rvs(train_dataset_len)\n",
    "\n",
    "def generate_purchase_history(row, train=True):\n",
    "    number_of_purchases = np.random.randint(min_number_purchase, max_number_purchase, 1)[0]\n",
    "    purchase_preferences = np.random.randint(0, len(merchant_id_to_amount_range), 1)[0] \n",
    "    truncated_normal = get_truncated_normal(mean=purchase_preferences, sd=2, low=0, upp=len(merchant_id_to_amount_range)-1)\n",
    "    indices = truncated_normal.rvs(number_of_purchases).round()\n",
    "    current_merchant_id = random.randint(0, number_of_stores-1)\n",
    "    current_merchant = merchants_df.iloc[current_merchant_id].copy()\n",
    "    current_merchant_mcc = current_merchant.merchant_mcc\n",
    "    bonuses_available = current_merchant.bonuses_available.copy()\n",
    "    purchase_history = []\n",
    "    purchase_history_names = []\n",
    "    rating = random_rating[row.name]\n",
    "    total_spending = 0\n",
    "    for purchase_id in indices:\n",
    "        purchase_name, range = merchant_id_to_amount_range[purchase_id]\n",
    "        spending = np.around(np.random.uniform(range[0], range[-1]+1, 1), 1)[0]\n",
    "        total_spending += spending\n",
    "        purchase_history.append([purchase_name, spending])\n",
    "        purchase_history_names.append(purchase_name)\n",
    "    row['purchase_history'] = purchase_history\n",
    "    row['rating'] = rating\n",
    "    if train:\n",
    "        purchase_history_names_count = Counter(purchase_history_names)\n",
    "        row['current_merchant_id'] = current_merchant_id\n",
    "        bonus_to_offer = ''\n",
    "        if purchase_history_names_count.total() > 0:\n",
    "            percentage_of_usage = purchase_history_names_count[current_merchant_mcc]*100/purchase_history_names_count.total()\n",
    "        else:\n",
    "            percentage_of_usage = 0\n",
    "        if len(bonuses_available) > 0:\n",
    "            if current_merchant_mcc not in purchase_history_names and 'welcome' in bonuses_available:\n",
    "                if rating >= np.random.uniform(3.0, 5.0):\n",
    "                    bonus_to_offer = 'welcome'\n",
    "            elif total_spending >= 350_000.0 and 'up-sell' in bonuses_available:\n",
    "                if rating >= np.random.uniform(1.0, 5.0):\n",
    "                    bonus_to_offer = 'up-sell'\n",
    "            elif percentage_of_usage >= 50.0 and 'big-gift' in bonuses_available:\n",
    "                bonus_to_offer = 'big-gift'\n",
    "            elif percentage_of_usage >= 30.0 and 'small-gift' in bonuses_available:\n",
    "                if rating >= np.random.uniform(1.0, 5.0):\n",
    "                    bonus_to_offer = 'small-gift'\n",
    "            elif row.age > 65.0 and 'discount' in bonuses_available:\n",
    "                if rating >= np.random.uniform(1.0, 5.0):\n",
    "                    bonus_to_offer = 'discount'\n",
    "            elif rating >= np.random.uniform(1.0, 5.0):\n",
    "                if 'welcome' in bonuses_available: bonuses_available.remove('welcome')\n",
    "                if 'up-sell' in bonuses_available: bonuses_available.remove('up-sell')\n",
    "                if 'big-gift' in bonuses_available: bonuses_available.remove('big-gift')\n",
    "                if bonuses_available:\n",
    "                    bonus_to_offer = sample(bonuses_available, 1)[0]      \n",
    "        row['bonus_to_offer'] = bonus_to_offer\n",
    "        # row['total_spending'] = total_spending\n",
    "    return row\n",
    "\n",
    "\n",
    "df_train = df_train.apply(generate_purchase_history, axis = 1)\n",
    "df_test = df_test.apply(generate_purchase_history, train=False, axis = 1)\n",
    "df_train"
   ]
  },
  {
   "cell_type": "code",
   "execution_count": 42,
   "metadata": {},
   "outputs": [
    {
     "data": {
      "text/plain": [
       "([0, 1, 2, 3, 4, 5, 6, 7, 8],\n",
       " [Text(0, 0, ''),\n",
       "  Text(1, 0, 'welcome'),\n",
       "  Text(2, 0, 'small-gift'),\n",
       "  Text(3, 0, 'cashback'),\n",
       "  Text(4, 0, 'early-access'),\n",
       "  Text(5, 0, 'discount'),\n",
       "  Text(6, 0, 'loyalty'),\n",
       "  Text(7, 0, 'up-sell'),\n",
       "  Text(8, 0, 'big-gift')])"
      ]
     },
     "execution_count": 42,
     "metadata": {},
     "output_type": "execute_result"
    },
    {
     "data": {
      "image/png": "[encoded data removed]",
      "text/plain": [
       "<Figure size 640x480 with 1 Axes>"
      ]
     },
     "metadata": {},
     "output_type": "display_data"
    }
   ],
   "source": [
    "bonuses_distribution = df_train.bonus_to_offer.value_counts()\n",
    "bonuses_distribution\n",
    "plt.bar(bonuses_distribution.index, bonuses_distribution.values)\n",
    "plt.xticks(rotation=30, ha='right')\n"
   ]
  },
  {
   "cell_type": "code",
   "execution_count": 10,
   "metadata": {},
   "outputs": [
    {
     "data": {
      "text/plain": [
       "beauty and personal care     0.066\n",
       "home and kitchen             0.058\n",
       "automotive                   0.057\n",
       "industrial and scientific    0.057\n",
       "health and wellness          0.054\n",
       "education and learning       0.054\n",
       "food and beverages           0.052\n",
       "pet supplies                 0.051\n",
       "baby and kids                0.051\n",
       "party supplies               0.050\n",
       "travel and leisure           0.050\n",
       "books and media              0.048\n",
       "sports and fitness           0.047\n",
       "art and crafts               0.046\n",
       "toys and games               0.046\n",
       "office supplies              0.046\n",
       "fashion                      0.043\n",
       "music                        0.042\n",
       "garden and outdoor           0.042\n",
       "electronics                  0.040\n",
       "Name: merchant_mcc, dtype: float64"
      ]
     },
     "execution_count": 10,
     "metadata": {},
     "output_type": "execute_result"
    }
   ],
   "source": [
    "merchants_counts = merchants_df.merchant_mcc.value_counts()\n",
    "merchants_counts/merchants_counts.sum()"
   ]
  },
  {
   "cell_type": "code",
   "execution_count": 11,
   "metadata": {},
   "outputs": [],
   "source": [
    "# w = w / (sum(w in marked_points))\n",
    "\n",
    "\n",
    "# sports and fitness           0.063\n",
    "# pet supplies                 0.051\n",
    "# music                        0.036\n",
    "\n",
    "# sports and fitness    4\n",
    "# sports and fitness    3\n",
    "# pet supplies          5\n",
    "# pet supplies          5\n",
    "# pet supplies          2\n",
    "# music                 5\n",
    "\n",
    "# w(sports and fitness) = w(sports and fitness)/sum(w(sports and fitness), w(pet supplies), w(music))\n",
    "\n",
    "# sports and fitness           0,42\n",
    "# pet supplies                 0,34\n",
    "# music                        0,24\n",
    "\n",
    "# sum((mean(category))*w(category))\n",
    "# ((4+3)/2)*0,42+((5+5+2)/3)*0,34+((5)/1)*0,24"
   ]
  },
  {
   "cell_type": "code",
   "execution_count": 12,
   "metadata": {},
   "outputs": [],
   "source": [
    "service_params = ServiceParams(\n",
    "    max_number_purchase = max_number_purchase,\n",
    "    bonus_type = bonus_type,\n",
    "    merchantName2id = merchantName2id,\n",
    "    bonusName2id = bonusName2id,\n",
    ")"
   ]
  },
  {
   "cell_type": "code",
   "execution_count": 43,
   "metadata": {},
   "outputs": [
    {
     "data": {
      "text/plain": [
       "(array([[27.       ,  0.       ,  0.       , ...,  1.       ,  1.       ,\n",
       "          3.952476 ],\n",
       "        [21.       ,  0.       ,  0.       , ...,  1.       ,  1.       ,\n",
       "          3.839845 ],\n",
       "        [29.       ,  0.       ,  0.       , ...,  0.       ,  0.       ,\n",
       "          4.8431196],\n",
       "        ...,\n",
       "        [26.       ,  0.       ,  0.       , ...,  1.       ,  0.       ,\n",
       "          4.936572 ],\n",
       "        [47.       ,  0.       ,  0.       , ...,  0.       ,  1.       ,\n",
       "          4.7846966],\n",
       "        [45.       ,  0.       ,  0.       , ...,  1.       ,  1.       ,\n",
       "          3.5656471]], dtype=float32),\n",
       " array([-1,  5, -1, ...,  0,  0, -1], dtype=int32),\n",
       " (20000, 31),\n",
       " (20000,))"
      ]
     },
     "execution_count": 43,
     "metadata": {},
     "output_type": "execute_result"
    }
   ],
   "source": [
    "vectors =  np.array(df_train.apply(vectorize_for_bonus_predict, merchant_id=None, merchants_db=merchants_df, params=service_params, axis=1).to_list())\n",
    "X = vectors[:,:-1].astype(np.float32)\n",
    "y = vectors[:,-1].astype(np.int32)\n",
    "X, y, X.shape, y.shape"
   ]
  },
  {
   "cell_type": "code",
   "execution_count": 44,
   "metadata": {},
   "outputs": [
    {
     "name": "stderr",
     "output_type": "stream",
     "text": [
      "[Parallel(n_jobs=1)]: Using backend SequentialBackend with 1 concurrent workers.\n",
      "[Parallel(n_jobs=1)]: Done 100 out of 100 | elapsed:    3.8s finished\n",
      "[Parallel(n_jobs=1)]: Using backend SequentialBackend with 1 concurrent workers.\n",
      "[Parallel(n_jobs=1)]: Done 100 out of 100 | elapsed:    0.4s finished\n"
     ]
    },
    {
     "data": {
      "text/plain": [
       "1.0"
      ]
     },
     "execution_count": 44,
     "metadata": {},
     "output_type": "execute_result"
    }
   ],
   "source": [
    "# gbc_clf = GradientBoostingClassifier(verbose=1, random_state=SEED)\n",
    "gbc_clf = RandomForestClassifier(verbose=1, random_state=SEED)\n",
    "\n",
    "pipeline  = Pipeline([\n",
    "        # ('scaler', StandardScaler()), \n",
    "        ('ereg',  gbc_clf)\n",
    "        ])\n",
    "\n",
    "pipeline.fit(X, y)\n",
    "pipeline.score(X, y)"
   ]
  },
  {
   "cell_type": "code",
   "execution_count": 80,
   "metadata": {},
   "outputs": [
    {
     "name": "stderr",
     "output_type": "stream",
     "text": [
      "/home/evigurskiy/workspace/PythonProjects/bnb_ml/utils.py:67: SettingWithCopyWarning: \n",
      "A value is trying to be set on a copy of a slice from a DataFrame\n",
      "\n",
      "See the caveats in the documentation: https://pandas.pydata.org/pandas-docs/stable/user_guide/indexing.html#returning-a-view-versus-a-copy\n",
      "  client_record.rating = rating\n",
      "[Parallel(n_jobs=1)]: Using backend SequentialBackend with 1 concurrent workers.\n",
      "[Parallel(n_jobs=1)]: Done 100 out of 100 | elapsed:    0.0s finished\n"
     ]
    },
    {
     "data": {
      "text/plain": [
       "('up-sell', 0.64)"
      ]
     },
     "execution_count": 80,
     "metadata": {},
     "output_type": "execute_result"
    }
   ],
   "source": [
    "predict_bonus(client_id=396, store_id=210, rating=4.7, model=pipeline, client_database=df_test, merchant_database=merchants_df, service_params=service_params)"
   ]
  },
  {
   "cell_type": "code",
   "execution_count": 81,
   "metadata": {},
   "outputs": [
    {
     "data": {
      "text/plain": [
       "array([[2.7000000e+01, 1.6000000e+01, 1.2772900e+04, ..., 0.0000000e+00,\n",
       "        0.0000000e+00, 3.9524760e+00],\n",
       "       [2.1000000e+01, 1.1000000e+01, 8.8259998e+02, ..., 0.0000000e+00,\n",
       "        0.0000000e+00, 3.8398449e+00],\n",
       "       [2.9000000e+01, 9.0000000e+00, 6.0159998e+02, ..., 0.0000000e+00,\n",
       "        0.0000000e+00, 4.8431196e+00],\n",
       "       ...,\n",
       "       [2.6000000e+01, 1.0000000e+01, 9.0115102e+04, ..., 0.0000000e+00,\n",
       "        0.0000000e+00, 4.9365721e+00],\n",
       "       [4.7000000e+01, 1.4000000e+01, 7.7257998e+03, ..., 0.0000000e+00,\n",
       "        0.0000000e+00, 4.7846966e+00],\n",
       "       [4.5000000e+01, 1.7000000e+01, 4.1420001e+02, ..., 0.0000000e+00,\n",
       "        0.0000000e+00, 3.5656471e+00]], dtype=float32)"
      ]
     },
     "execution_count": 81,
     "metadata": {},
     "output_type": "execute_result"
    }
   ],
   "source": [
    "vectors =  np.array(df_train.apply(vectorize_for_neighbours_predict, params=service_params, axis=1).to_list())\n",
    "X = vectors.astype(np.float32)\n",
    "X"
   ]
  },
  {
   "cell_type": "code",
   "execution_count": 82,
   "metadata": {},
   "outputs": [
    {
     "data": {
      "text/html": [
       "<style>#sk-container-id-2 {color: black;background-color: white;}#sk-container-id-2 pre{padding: 0;}#sk-container-id-2 div.sk-toggleable {background-color: white;}#sk-container-id-2 label.sk-toggleable__label {cursor: pointer;display: block;width: 100%;margin-bottom: 0;padding: 0.3em;box-sizing: border-box;text-align: center;}#sk-container-id-2 label.sk-toggleable__label-arrow:before {content: \"▸\";float: left;margin-right: 0.25em;color: #696969;}#sk-container-id-2 label.sk-toggleable__label-arrow:hover:before {color: black;}#sk-container-id-2 div.sk-estimator:hover label.sk-toggleable__label-arrow:before {color: black;}#sk-container-id-2 div.sk-toggleable__content {max-height: 0;max-width: 0;overflow: hidden;text-align: left;background-color: #f0f8ff;}#sk-container-id-2 div.sk-toggleable__content pre {margin: 0.2em;color: black;border-radius: 0.25em;background-color: #f0f8ff;}#sk-container-id-2 input.sk-toggleable__control:checked~div.sk-toggleable__content {max-height: 200px;max-width: 100%;overflow: auto;}#sk-container-id-2 input.sk-toggleable__control:checked~label.sk-toggleable__label-arrow:before {content: \"▾\";}#sk-container-id-2 div.sk-estimator input.sk-toggleable__control:checked~label.sk-toggleable__label {background-color: #d4ebff;}#sk-container-id-2 div.sk-label input.sk-toggleable__control:checked~label.sk-toggleable__label {background-color: #d4ebff;}#sk-container-id-2 input.sk-hidden--visually {border: 0;clip: rect(1px 1px 1px 1px);clip: rect(1px, 1px, 1px, 1px);height: 1px;margin: -1px;overflow: hidden;padding: 0;position: absolute;width: 1px;}#sk-container-id-2 div.sk-estimator {font-family: monospace;background-color: #f0f8ff;border: 1px dotted black;border-radius: 0.25em;box-sizing: border-box;margin-bottom: 0.5em;}#sk-container-id-2 div.sk-estimator:hover {background-color: #d4ebff;}#sk-container-id-2 div.sk-parallel-item::after {content: \"\";width: 100%;border-bottom: 1px solid gray;flex-grow: 1;}#sk-container-id-2 div.sk-label:hover label.sk-toggleable__label {background-color: #d4ebff;}#sk-container-id-2 div.sk-serial::before {content: \"\";position: absolute;border-left: 1px solid gray;box-sizing: border-box;top: 0;bottom: 0;left: 50%;z-index: 0;}#sk-container-id-2 div.sk-serial {display: flex;flex-direction: column;align-items: center;background-color: white;padding-right: 0.2em;padding-left: 0.2em;position: relative;}#sk-container-id-2 div.sk-item {position: relative;z-index: 1;}#sk-container-id-2 div.sk-parallel {display: flex;align-items: stretch;justify-content: center;background-color: white;position: relative;}#sk-container-id-2 div.sk-item::before, #sk-container-id-2 div.sk-parallel-item::before {content: \"\";position: absolute;border-left: 1px solid gray;box-sizing: border-box;top: 0;bottom: 0;left: 50%;z-index: -1;}#sk-container-id-2 div.sk-parallel-item {display: flex;flex-direction: column;z-index: 1;position: relative;background-color: white;}#sk-container-id-2 div.sk-parallel-item:first-child::after {align-self: flex-end;width: 50%;}#sk-container-id-2 div.sk-parallel-item:last-child::after {align-self: flex-start;width: 50%;}#sk-container-id-2 div.sk-parallel-item:only-child::after {width: 0;}#sk-container-id-2 div.sk-dashed-wrapped {border: 1px dashed gray;margin: 0 0.4em 0.5em 0.4em;box-sizing: border-box;padding-bottom: 0.4em;background-color: white;}#sk-container-id-2 div.sk-label label {font-family: monospace;font-weight: bold;display: inline-block;line-height: 1.2em;}#sk-container-id-2 div.sk-label-container {text-align: center;}#sk-container-id-2 div.sk-container {/* jupyter's `normalize.less` sets `[hidden] { display: none; }` but bootstrap.min.css set `[hidden] { display: none !important; }` so we also need the `!important` here to be able to override the default hidden behavior on the sphinx rendered scikit-learn.org. See: https://github.com/scikit-learn/scikit-learn/issues/21755 */display: inline-block !important;position: relative;}#sk-container-id-2 div.sk-text-repr-fallback {display: none;}</style><div id=\"sk-container-id-2\" class=\"sk-top-container\"><div class=\"sk-text-repr-fallback\"><pre>NearestNeighbors(algorithm=&#x27;ball_tree&#x27;)</pre><b>In a Jupyter environment, please rerun this cell to show the HTML representation or trust the notebook. <br />On GitHub, the HTML representation is unable to render, please try loading this page with nbviewer.org.</b></div><div class=\"sk-container\" hidden><div class=\"sk-item\"><div class=\"sk-estimator sk-toggleable\"><input class=\"sk-toggleable__control sk-hidden--visually\" id=\"sk-estimator-id-2\" type=\"checkbox\" checked><label for=\"sk-estimator-id-2\" class=\"sk-toggleable__label sk-toggleable__label-arrow\">NearestNeighbors</label><div class=\"sk-toggleable__content\"><pre>NearestNeighbors(algorithm=&#x27;ball_tree&#x27;)</pre></div></div></div></div></div>"
      ],
      "text/plain": [
       "NearestNeighbors(algorithm='ball_tree')"
      ]
     },
     "execution_count": 82,
     "metadata": {},
     "output_type": "execute_result"
    }
   ],
   "source": [
    "nbrs_clf = NearestNeighbors(n_neighbors=5, algorithm='ball_tree')\n",
    "nbrs_clf.fit(X)"
   ]
  },
  {
   "cell_type": "code",
   "execution_count": 18,
   "metadata": {},
   "outputs": [
    {
     "data": {
      "text/plain": [
       "(        age                                   purchase_history    rating  \\\n",
       " 0      27.0  [[home and kitchen, 5663.1], [books and media,...  1.798534   \n",
       " 19412  29.0  [[books and media, 91.5], [food and beverages,...  3.091755   \n",
       " 15618  59.0  [[office supplies, 168.5], [baby and kids, 556...  4.971579   \n",
       " 1786   24.0  [[office supplies, 8536.7], [garden and outdoo...  4.233227   \n",
       " 16755  35.0  [[art and crafts, 405.6], [garden and outdoor,...  4.942804   \n",
       " \n",
       "        current_merchant_id bonus_to_offer  \n",
       " 0                      293       discount  \n",
       " 19412                  585                 \n",
       " 15618                  900                 \n",
       " 1786                   948     small-gift  \n",
       " 16755                  706     small-gift  ,\n",
       " array([[    0.        , 30459.40786348, 45896.20196259, 46671.9393344 ,\n",
       "         47516.02130805]]))"
      ]
     },
     "execution_count": 18,
     "metadata": {},
     "output_type": "execute_result"
    }
   ],
   "source": [
    "distances, indices = nbrs_clf.kneighbors(X[:1])\n",
    "nearest = df_train.iloc[indices[0]]\n",
    "nearest, distances"
   ]
  },
  {
   "cell_type": "code",
   "execution_count": 19,
   "metadata": {},
   "outputs": [
    {
     "data": {
      "text/plain": [
       "(array([1222, 1687, 2891]), array([0.96292167, 0.9605202 , 0.9559736 ]))"
      ]
     },
     "execution_count": 19,
     "metadata": {},
     "output_type": "execute_result"
    }
   ],
   "source": [
    "predict_neighbours(8, nbrs_clf, df_test, service_params)"
   ]
  },
  {
   "cell_type": "code",
   "execution_count": 20,
   "metadata": {},
   "outputs": [],
   "source": [
    "# Import models and data for inference\n",
    "from os.path import basename\n",
    "\n",
    "gbc_filename = 'data/gbc.clf'\n",
    "nbrs_filename = 'data/nbrs.clf'\n",
    "service_params_filename = 'data/service.params'\n",
    "pickle.dump(gbc_clf, open(gbc_filename, 'wb'))\n",
    "pickle.dump(nbrs_clf, open(nbrs_filename, 'wb'))\n",
    "pickle.dump(service_params, open(service_params_filename, 'wb'))\n",
    "df_train.to_csv('data/train_db.csv', index=False)\n",
    "df_test.to_csv('data/test_db.csv', index=False)\n",
    "merchants_df.to_csv('data/merchants_db.csv', index=False)\n",
    "with zipfile.ZipFile('data/gbc.zip', 'w') as zip:\n",
    "    zip.write(gbc_filename, arcname=basename(gbc_filename), compress_type=zipfile.ZIP_DEFLATED)\n",
    "with zipfile.ZipFile('data/nbrs.zip', 'w') as zip:\n",
    "    zip.write(nbrs_filename, arcname=basename(nbrs_filename), compress_type=zipfile.ZIP_DEFLATED)"
   ]
  }
 ],
 "metadata": {
  "kernelspec": {
   "display_name": "sharedenv",
   "language": "python",
   "name": "python3"
  },
  "language_info": {
   "codemirror_mode": {
    "name": "ipython",
    "version": 3
   },
   "file_extension": ".py",
   "mimetype": "text/x-python",
   "name": "python",
   "nbconvert_exporter": "python",
   "pygments_lexer": "ipython3",
   "version": "3.10.6"
  },
  "orig_nbformat": 4
 },
 "nbformat": 4,
 "nbformat_minor": 2
}
