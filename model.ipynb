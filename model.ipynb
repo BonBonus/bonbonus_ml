{
 "cells": [
  {
   "cell_type": "code",
   "execution_count": 133,
   "metadata": {},
   "outputs": [],
   "source": [
    "%load_ext autoreload\n",
    "%autoreload 2"
   ]
  },
  {
   "cell_type": "code",
   "execution_count": 183,
   "metadata": {},
   "outputs": [],
   "source": [
    "from sklearn.linear_model import SGDRegressor\n",
    "from random import sample\n",
    "from functools import lru_cache\n",
    "import pandas as pd\n",
    "import numpy as np\n",
    "import matplotlib.pyplot as plt\n",
    "import re\n",
    "from tqdm import tqdm\n",
    "import random\n",
    "from sklearn.feature_extraction.text import TfidfVectorizer\n",
    "from scipy.sparse import hstack\n",
    "\n",
    "from sklearn.datasets import make_classification\n",
    "from sklearn.preprocessing import minmax_scale\n",
    "from scipy.stats import truncnorm\n",
    "from scipy.stats import skewnorm\n",
    "\n",
    "from sklearn.ensemble import GradientBoostingClassifier\n",
    "from sklearn.ensemble import RandomForestClassifier\n",
    "from sklearn.neighbors import NearestNeighbors\n",
    "\n",
    "from utils import ServiceParams, vectorize_for_bonus_predict, vectorize_for_neighbours_predict\n",
    "\n",
    "import pickle\n",
    "\n",
    "SEED = 42\n",
    "\n",
    "random.seed(SEED)\n",
    "np.random.seed(SEED)"
   ]
  },
  {
   "cell_type": "code",
   "execution_count": 140,
   "metadata": {},
   "outputs": [],
   "source": [
    "train_dataset_len = 1000\n",
    "test_dataset_len = 500"
   ]
  },
  {
   "cell_type": "code",
   "execution_count": 164,
   "metadata": {},
   "outputs": [
    {
     "data": {
      "text/plain": [
       "(array([32., 50., 78., 52., 76., 40., 80., 45., 40., 71., 37., 59., 26.,\n",
       "        51., 22., 32., 18., 19., 28., 21., 31.,  7., 15., 11.,  7., 14.,\n",
       "         6.,  9.,  3.,  4.,  1.,  4.,  2.,  2.,  4.,  0.,  0.,  0.,  1.,\n",
       "         0.,  1.,  0.,  0.,  0.,  0.,  0.,  0.,  0.,  0.,  1.]),\n",
       " array([18.  , 19.44, 20.88, 22.32, 23.76, 25.2 , 26.64, 28.08, 29.52,\n",
       "        30.96, 32.4 , 33.84, 35.28, 36.72, 38.16, 39.6 , 41.04, 42.48,\n",
       "        43.92, 45.36, 46.8 , 48.24, 49.68, 51.12, 52.56, 54.  , 55.44,\n",
       "        56.88, 58.32, 59.76, 61.2 , 62.64, 64.08, 65.52, 66.96, 68.4 ,\n",
       "        69.84, 71.28, 72.72, 74.16, 75.6 , 77.04, 78.48, 79.92, 81.36,\n",
       "        82.8 , 84.24, 85.68, 87.12, 88.56, 90.  ]),\n",
       " <BarContainer object of 50 artists>)"
      ]
     },
     "execution_count": 164,
     "metadata": {},
     "output_type": "execute_result"
    },
    {
     "data": {
      "image/png": "[encoded data removed]",
      "text/plain": [
       "<Figure size 640x480 with 1 Axes>"
      ]
     },
     "metadata": {},
     "output_type": "display_data"
    }
   ],
   "source": [
    "skewness = 30\n",
    "\n",
    "age = skewnorm.rvs(a = skewness, size=train_dataset_len)\n",
    "age = minmax_scale(age, feature_range=(18, 90))\n",
    "age = age.round()\n",
    "df_train = pd.DataFrame(age, columns=['age'])\n",
    "\n",
    "age = skewnorm.rvs(a = skewness, size=test_dataset_len)\n",
    "age = minmax_scale(age, feature_range=(18, 90))\n",
    "age = age.round()\n",
    "df_test = pd.DataFrame(age, columns=['age'])\n",
    "\n",
    "plt.hist(df_train.age, bins=50)"
   ]
  },
  {
   "cell_type": "code",
   "execution_count": 67,
   "metadata": {},
   "outputs": [
    {
     "data": {
      "text/plain": [
       "{0: 'electronics',\n",
       " 1: 'fashion',\n",
       " 2: 'beauty and personal care',\n",
       " 3: 'home and kitchen',\n",
       " 4: 'sports and fitness',\n",
       " 5: 'toys and games',\n",
       " 6: 'books and media',\n",
       " 7: 'food and beverages',\n",
       " 8: 'health and wellness',\n",
       " 9: 'automotive',\n",
       " 10: 'pet supplies',\n",
       " 11: 'office supplies',\n",
       " 12: 'music',\n",
       " 13: 'travel and leisure',\n",
       " 14: 'art and crafts',\n",
       " 15: 'garden and outdoor',\n",
       " 16: 'baby and kids',\n",
       " 17: 'industrial and scientific',\n",
       " 18: 'party supplies',\n",
       " 19: 'education and learning'}"
      ]
     },
     "execution_count": 67,
     "metadata": {},
     "output_type": "execute_result"
    }
   ],
   "source": [
    "# Service engage type\n",
    "merchant_mcc_and_description = [\n",
    "    \"Electronics: Products such as smartphones, laptops, tablets, TVs, and gaming consoles\",\n",
    "    \"Fashion: Clothing, shoes, handbags, accessories, and jewelry\",\n",
    "    \"Beauty and personal care: Makeup, skincare, haircare, and grooming products\",\n",
    "    \"Home and kitchen: Appliances, furniture, home decor, and cookware\",\n",
    "    \"Sports and fitness: Athletic clothing, equipment, and supplements\",\n",
    "    \"Toys and games: Board games, puzzles, action figures, and dolls\",\n",
    "    \"Books and media: Fiction and non-fiction books, magazines, and DVDs\",\n",
    "    \"Food and beverages: Snacks, drinks, and packaged foods\",\n",
    "    \"Health and wellness: Vitamins, supplements, and medical devices\",\n",
    "    \"Automotive: Cars, motorcycles, bicycles, and accessories\",\n",
    "    \"Pet supplies: Products such as food, toys, and accessories for dogs, cats, and other pets\",\n",
    "    \"Office supplies: Stationery, printers, and office furniture\",\n",
    "    \"Music: Instruments, sheet music, and audio equipment\",\n",
    "    \"Travel and leisure: Luggage, travel accessories, and camping gear\",\n",
    "    \"Art and crafts: Supplies for drawing, painting, and crafting\",\n",
    "    \"Garden and outdoor: Tools, planters, and outdoor furniture\",\n",
    "    \"Baby and kids: Clothing, toys, and baby gear\",\n",
    "    \"Industrial and scientific: Laboratory equipment, machinery, and scientific instruments\",\n",
    "    \"Party supplies: Decorations, party favors, and supplies for hosting events\",\n",
    "    \"Education and learning: Products such as textbooks, online courses, educational toys, and educational software for learners of all ages\"\n",
    "]\n",
    "\n",
    "merchant_mcc = ['electronics',\n",
    " 'fashion',\n",
    " 'beauty and personal care',\n",
    " 'home and kitchen',\n",
    " 'sports and fitness',\n",
    " 'toys and games',\n",
    " 'books and media',\n",
    " 'food and beverages',\n",
    " 'health and wellness',\n",
    " 'automotive',\n",
    " 'pet supplies',\n",
    " 'office supplies',\n",
    " 'music',\n",
    " 'travel and leisure',\n",
    " 'art and crafts',\n",
    " 'garden and outdoor',\n",
    " 'baby and kids',\n",
    " 'industrial and scientific',\n",
    " 'party supplies',\n",
    " 'education and learning']\n",
    "\n",
    "bonus_type = [\n",
    "    'welcome',\n",
    "    'loyalty',\n",
    "    'discount',\n",
    "    'cashback',\n",
    "    'up-sell',\n",
    "    'gift',\n",
    "    'early-access',\n",
    "]\n",
    "\n",
    "merchant_id_to_amount_range = {\n",
    "    0: ['electronics', range(50, 10_000)],\n",
    "    1: ['fashion', range(10, 10_000)],\n",
    "    2: ['beauty and personal care', range(5, 500)],\n",
    "    3: ['home and kitchen', range(10, 20_000)],\n",
    "    4: ['sports and fitness', range(5, 5_000)],\n",
    "    5: ['toys and games', range(5, 1000)],\n",
    "    6: ['books and media', range(5, 1000)],\n",
    "    7: ['food and beverages', range(1, 100)],\n",
    "    8: ['health and wellness', range(5, 1000)],\n",
    "    9: ['automotive', range(5_000, 100_000)],\n",
    "    10: ['pet supplies', range(5, 1000)],\n",
    "    11: ['office supplies', range(1, 10_000)],\n",
    "    12: ['music', range(50, 10_000)],\n",
    "    13: ['travel and leisure', range(50, 10_000)],\n",
    "    14: ['art and crafts', range(5, 1000)],\n",
    "    15: ['garden and outdoor', range(10, 20_000)],\n",
    "    16: ['baby and kids', range(5, 1_000)],\n",
    "    17: ['industrial and scientific', range(10, 100_000)],\n",
    "    18: ['party supplies', range(5, 1_000)],\n",
    "    19: ['education and learning', range(10, 10_000)]\n",
    " }\n",
    "\n",
    "id2merchantName = { i : desc for i, desc in enumerate(merchant_mcc) }\n",
    "merchantName2id = { desc : i for i, desc in enumerate(merchant_mcc) }\n",
    "id2bonusName = { i : desc for i, desc in enumerate(bonus_type) }\n",
    "bonusName2id = { desc : i for i, desc in enumerate(bonus_type) }\n",
    "id2merchantName"
   ]
  },
  {
   "cell_type": "code",
   "execution_count": 6,
   "metadata": {},
   "outputs": [],
   "source": [
    "def get_truncated_normal(mean=0, sd=1, low=0, upp=10):\n",
    "    return truncnorm(\n",
    "        (low - mean) / sd, (upp - mean) / sd, loc=mean, scale=sd)"
   ]
  },
  {
   "cell_type": "code",
   "execution_count": 171,
   "metadata": {},
   "outputs": [
    {
     "data": {
      "text/html": [
       "<div>\n",
       "<style scoped>\n",
       "    .dataframe tbody tr th:only-of-type {\n",
       "        vertical-align: middle;\n",
       "    }\n",
       "\n",
       "    .dataframe tbody tr th {\n",
       "        vertical-align: top;\n",
       "    }\n",
       "\n",
       "    .dataframe thead th {\n",
       "        text-align: right;\n",
       "    }\n",
       "</style>\n",
       "<table border=\"1\" class=\"dataframe\">\n",
       "  <thead>\n",
       "    <tr style=\"text-align: right;\">\n",
       "      <th></th>\n",
       "      <th>merchant_mcc</th>\n",
       "      <th>bonuses_available</th>\n",
       "    </tr>\n",
       "  </thead>\n",
       "  <tbody>\n",
       "    <tr>\n",
       "      <th>0</th>\n",
       "      <td>beauty and personal care</td>\n",
       "      <td>[welcome, cashback, discount, loyalty, early-a...</td>\n",
       "    </tr>\n",
       "    <tr>\n",
       "      <th>1</th>\n",
       "      <td>beauty and personal care</td>\n",
       "      <td>[]</td>\n",
       "    </tr>\n",
       "    <tr>\n",
       "      <th>2</th>\n",
       "      <td>books and media</td>\n",
       "      <td>[cashback, early-access]</td>\n",
       "    </tr>\n",
       "    <tr>\n",
       "      <th>3</th>\n",
       "      <td>automotive</td>\n",
       "      <td>[welcome, discount]</td>\n",
       "    </tr>\n",
       "    <tr>\n",
       "      <th>4</th>\n",
       "      <td>garden and outdoor</td>\n",
       "      <td>[gift, discount, up-sell, loyalty, cashback, w...</td>\n",
       "    </tr>\n",
       "    <tr>\n",
       "      <th>...</th>\n",
       "      <td>...</td>\n",
       "      <td>...</td>\n",
       "    </tr>\n",
       "    <tr>\n",
       "      <th>995</th>\n",
       "      <td>art and crafts</td>\n",
       "      <td>[discount]</td>\n",
       "    </tr>\n",
       "    <tr>\n",
       "      <th>996</th>\n",
       "      <td>home and kitchen</td>\n",
       "      <td>[early-access, welcome, loyalty, discount, gif...</td>\n",
       "    </tr>\n",
       "    <tr>\n",
       "      <th>997</th>\n",
       "      <td>art and crafts</td>\n",
       "      <td>[]</td>\n",
       "    </tr>\n",
       "    <tr>\n",
       "      <th>998</th>\n",
       "      <td>garden and outdoor</td>\n",
       "      <td>[cashback, welcome, discount, early-access, lo...</td>\n",
       "    </tr>\n",
       "    <tr>\n",
       "      <th>999</th>\n",
       "      <td>education and learning</td>\n",
       "      <td>[up-sell, discount, cashback, gift, early-acce...</td>\n",
       "    </tr>\n",
       "  </tbody>\n",
       "</table>\n",
       "<p>1000 rows × 2 columns</p>\n",
       "</div>"
      ],
      "text/plain": [
       "                 merchant_mcc  \\\n",
       "0    beauty and personal care   \n",
       "1    beauty and personal care   \n",
       "2             books and media   \n",
       "3                  automotive   \n",
       "4          garden and outdoor   \n",
       "..                        ...   \n",
       "995            art and crafts   \n",
       "996          home and kitchen   \n",
       "997            art and crafts   \n",
       "998        garden and outdoor   \n",
       "999    education and learning   \n",
       "\n",
       "                                     bonuses_available  \n",
       "0    [welcome, cashback, discount, loyalty, early-a...  \n",
       "1                                                   []  \n",
       "2                             [cashback, early-access]  \n",
       "3                                  [welcome, discount]  \n",
       "4    [gift, discount, up-sell, loyalty, cashback, w...  \n",
       "..                                                 ...  \n",
       "995                                         [discount]  \n",
       "996  [early-access, welcome, loyalty, discount, gif...  \n",
       "997                                                 []  \n",
       "998  [cashback, welcome, discount, early-access, lo...  \n",
       "999  [up-sell, discount, cashback, gift, early-acce...  \n",
       "\n",
       "[1000 rows x 2 columns]"
      ]
     },
     "execution_count": 171,
     "metadata": {},
     "output_type": "execute_result"
    }
   ],
   "source": [
    "number_of_stores = 1000\n",
    "merchants_df = pd.DataFrame(index=range(0,number_of_stores), columns=['merchant_mcc', 'bonuses_available'])\n",
    "def generate_random_stores(row):\n",
    "    row['merchant_mcc'] = sample(merchant_mcc, 1)[0]\n",
    "    row['bonuses_available'] = sample(bonus_type, random.randint(0, len(bonus_type)))\n",
    "    return row\n",
    "    \n",
    "merchants_df = merchants_df.apply(generate_random_stores, axis=1)\n",
    "merchants_df"
   ]
  },
  {
   "cell_type": "code",
   "execution_count": 177,
   "metadata": {},
   "outputs": [
    {
     "data": {
      "text/html": [
       "<div>\n",
       "<style scoped>\n",
       "    .dataframe tbody tr th:only-of-type {\n",
       "        vertical-align: middle;\n",
       "    }\n",
       "\n",
       "    .dataframe tbody tr th {\n",
       "        vertical-align: top;\n",
       "    }\n",
       "\n",
       "    .dataframe thead th {\n",
       "        text-align: right;\n",
       "    }\n",
       "</style>\n",
       "<table border=\"1\" class=\"dataframe\">\n",
       "  <thead>\n",
       "    <tr style=\"text-align: right;\">\n",
       "      <th></th>\n",
       "      <th>age</th>\n",
       "      <th>purchase_history</th>\n",
       "      <th>rating</th>\n",
       "    </tr>\n",
       "  </thead>\n",
       "  <tbody>\n",
       "    <tr>\n",
       "      <th>0</th>\n",
       "      <td>35.0</td>\n",
       "      <td>[[home and kitchen, 6314.1], [beauty and perso...</td>\n",
       "      <td>4.293411</td>\n",
       "    </tr>\n",
       "    <tr>\n",
       "      <th>1</th>\n",
       "      <td>22.0</td>\n",
       "      <td>[[music, 7862.0], [food and beverages, 70.5], ...</td>\n",
       "      <td>3.911830</td>\n",
       "    </tr>\n",
       "    <tr>\n",
       "      <th>2</th>\n",
       "      <td>38.0</td>\n",
       "      <td>[[travel and leisure, 5433.2], [books and medi...</td>\n",
       "      <td>4.016069</td>\n",
       "    </tr>\n",
       "    <tr>\n",
       "      <th>3</th>\n",
       "      <td>27.0</td>\n",
       "      <td>[[office supplies, 5468.8], [office supplies, ...</td>\n",
       "      <td>4.704216</td>\n",
       "    </tr>\n",
       "    <tr>\n",
       "      <th>4</th>\n",
       "      <td>64.0</td>\n",
       "      <td>[[travel and leisure, 737.4], [health and well...</td>\n",
       "      <td>4.437198</td>\n",
       "    </tr>\n",
       "    <tr>\n",
       "      <th>...</th>\n",
       "      <td>...</td>\n",
       "      <td>...</td>\n",
       "      <td>...</td>\n",
       "    </tr>\n",
       "    <tr>\n",
       "      <th>495</th>\n",
       "      <td>38.0</td>\n",
       "      <td>[[automotive, 28758.3], [office supplies, 7840...</td>\n",
       "      <td>4.994387</td>\n",
       "    </tr>\n",
       "    <tr>\n",
       "      <th>496</th>\n",
       "      <td>26.0</td>\n",
       "      <td>[[books and media, 181.8], [pet supplies, 480....</td>\n",
       "      <td>4.756006</td>\n",
       "    </tr>\n",
       "    <tr>\n",
       "      <th>497</th>\n",
       "      <td>27.0</td>\n",
       "      <td>[[food and beverages, 82.1], [toys and games, ...</td>\n",
       "      <td>4.825468</td>\n",
       "    </tr>\n",
       "    <tr>\n",
       "      <th>498</th>\n",
       "      <td>38.0</td>\n",
       "      <td>[[home and kitchen, 12946.9], [sports and fitn...</td>\n",
       "      <td>4.899437</td>\n",
       "    </tr>\n",
       "    <tr>\n",
       "      <th>499</th>\n",
       "      <td>27.0</td>\n",
       "      <td>[[beauty and personal care, 246.6], [sports an...</td>\n",
       "      <td>3.025277</td>\n",
       "    </tr>\n",
       "  </tbody>\n",
       "</table>\n",
       "<p>500 rows × 3 columns</p>\n",
       "</div>"
      ],
      "text/plain": [
       "      age                                   purchase_history    rating\n",
       "0    35.0  [[home and kitchen, 6314.1], [beauty and perso...  4.293411\n",
       "1    22.0  [[music, 7862.0], [food and beverages, 70.5], ...  3.911830\n",
       "2    38.0  [[travel and leisure, 5433.2], [books and medi...  4.016069\n",
       "3    27.0  [[office supplies, 5468.8], [office supplies, ...  4.704216\n",
       "4    64.0  [[travel and leisure, 737.4], [health and well...  4.437198\n",
       "..    ...                                                ...       ...\n",
       "495  38.0  [[automotive, 28758.3], [office supplies, 7840...  4.994387\n",
       "496  26.0  [[books and media, 181.8], [pet supplies, 480....  4.756006\n",
       "497  27.0  [[food and beverages, 82.1], [toys and games, ...  4.825468\n",
       "498  38.0  [[home and kitchen, 12946.9], [sports and fitn...  4.899437\n",
       "499  27.0  [[beauty and personal care, 246.6], [sports an...  3.025277\n",
       "\n",
       "[500 rows x 3 columns]"
      ]
     },
     "execution_count": 177,
     "metadata": {},
     "output_type": "execute_result"
    }
   ],
   "source": [
    "# Purchase history generation {purchase_type, amount} random purchase_type, random amount\n",
    "min_number_purchase = 0\n",
    "max_number_purchase = 50\n",
    "min_amount_bonus_points_available = 0\n",
    "max_amount_bonus_points_available = 99_999_999\n",
    "min_amount_assets_available = 0\n",
    "max_amount_assets_available = 99_999_999\n",
    "min_number_transactions = 0\n",
    "max_number_transactions = 99_999_999\n",
    "\n",
    "random_rating = get_truncated_normal(mean=10, sd=2, low=1, upp=5).rvs(train_dataset_len)\n",
    "\n",
    "def generate_purchase_history(row, train=True):\n",
    "    number_of_purchases = np.random.randint(min_number_purchase, max_number_purchase, 1)[0]\n",
    "    purchase_preferences = np.random.randint(0, len(merchant_id_to_amount_range), 1)[0] \n",
    "    truncated_normal = get_truncated_normal(mean=purchase_preferences, sd=2, low=0, upp=len(merchant_id_to_amount_range)-1)\n",
    "    indices = truncated_normal.rvs(number_of_purchases).round()\n",
    "    current_merchant_id = random.randint(0, number_of_stores-1)\n",
    "    current_merchant = merchants_df.iloc[current_merchant_id]\n",
    "    bonuses_available = current_merchant.bonuses_available\n",
    "    purchase_history = []\n",
    "    purchase_history_names = []\n",
    "    rating = random_rating[row.name]\n",
    "    for purchase_id in indices:\n",
    "        purchase_name, range = merchant_id_to_amount_range[purchase_id]\n",
    "        purchase_history.append([purchase_name, np.around(np.random.uniform(range[0], range[-1]+1, 1), 1)[0]])\n",
    "        purchase_history_names.append(purchase_name)\n",
    "    row['purchase_history'] = purchase_history\n",
    "    row['rating'] = rating\n",
    "    if train:\n",
    "        row['current_merchant_id'] = current_merchant_id\n",
    "        if len(bonuses_available) > 0 and rating >= np.random.uniform(1.0, 5.0):\n",
    "            bonuse_to_offer = sample(bonuses_available, 1)[0]\n",
    "        else:\n",
    "            bonuse_to_offer = ''\n",
    "        row['bonus_to_offer'] = bonuse_to_offer\n",
    "    return row\n",
    "\n",
    "\n",
    "df_train = df_train.apply(generate_purchase_history, axis = 1)\n",
    "df_test = df_test.apply(generate_purchase_history, train=False, axis = 1)\n",
    "df_train"
   ]
  },
  {
   "cell_type": "code",
   "execution_count": 159,
   "metadata": {},
   "outputs": [],
   "source": [
    "service_params = ServiceParams(\n",
    "    max_number_purchase = max_number_purchase,\n",
    "    bonus_type = bonus_type,\n",
    "    merchantName2id = merchantName2id,\n",
    "    bonusName2id = bonusName2id,\n",
    ")"
   ]
  },
  {
   "cell_type": "code",
   "execution_count": 174,
   "metadata": {},
   "outputs": [
    {
     "data": {
      "text/plain": [
       "(array([[2.9000000e+01, 5.0000000e+00, 7.3199997e+01, ..., 0.0000000e+00,\n",
       "         0.0000000e+00, 4.4627419e+00],\n",
       "        [2.1000000e+01, 0.0000000e+00, 0.0000000e+00, ..., 0.0000000e+00,\n",
       "         0.0000000e+00, 4.8610063e+00],\n",
       "        [3.1000000e+01, 7.0000000e+00, 4.0570001e+02, ..., 2.0000000e+00,\n",
       "         6.0000000e+00, 4.7938547e+00],\n",
       "        ...,\n",
       "        [3.0000000e+01, 5.0000000e+00, 3.1558999e+03, ..., 0.0000000e+00,\n",
       "         0.0000000e+00, 4.9571681e+00],\n",
       "        [2.9000000e+01, 7.0000000e+00, 1.6900000e+02, ..., 0.0000000e+00,\n",
       "         0.0000000e+00, 4.7550583e+00],\n",
       "        [2.9000000e+01, 1.3000000e+01, 5.2631001e+03, ..., 0.0000000e+00,\n",
       "         0.0000000e+00, 4.4609714e+00]], dtype=float32),\n",
       " array([4, 1, 2, 6, 4, 5, 3, 1, 0, 0, 1, 0, 7, 2, 2, 0, 3, 2, 1, 7, 0, 3,\n",
       "        7, 7, 5, 6, 1, 3, 0, 5, 1, 3, 1, 0, 0, 1, 2, 0, 6, 1, 0, 0, 0, 7,\n",
       "        4, 1, 0, 4, 0, 2, 6, 7, 1, 5, 2, 5, 3, 4, 0, 7, 5, 5, 5, 7, 4, 2,\n",
       "        2, 0, 3, 0, 4, 4, 0, 6, 1, 6, 4, 3, 0, 0, 0, 1, 0, 2, 7, 5, 7, 0,\n",
       "        0, 6, 5, 5, 0, 6, 0, 2, 7, 4, 0, 5, 0, 2, 0, 6, 7, 1, 1, 0, 1, 0,\n",
       "        3, 5, 0, 5, 4, 2, 0, 6, 7, 0, 7, 0, 0, 0, 7, 0, 3, 0, 0, 7, 5, 0,\n",
       "        0, 6, 4, 2, 6, 1, 0, 5, 0, 2, 5, 0, 0, 2, 2, 3, 6, 1, 0, 3, 7, 3,\n",
       "        3, 5, 1, 3, 2, 3, 6, 2, 3, 7, 0, 5, 4, 0, 5, 1, 4, 4, 6, 5, 0, 7,\n",
       "        0, 5, 0, 5, 3, 5, 0, 6, 3, 7, 5, 6, 0, 5, 3, 6, 1, 5, 6, 7, 0, 0,\n",
       "        0, 3, 0, 0, 4, 3, 0, 0, 5, 7, 3, 0, 3, 1, 3, 5, 2, 0, 1, 0, 1, 4,\n",
       "        0, 1, 2, 0, 4, 6, 1, 7, 7, 5, 1, 0, 0, 1, 7, 6, 7, 3, 4, 0, 2, 5,\n",
       "        3, 6, 6, 4, 0, 7, 7, 0, 2, 4, 0, 7, 4, 7, 4, 6, 2, 5, 4, 7, 6, 5,\n",
       "        7, 3, 0, 0, 2, 0, 3, 0, 5, 1, 1, 0, 3, 3, 2, 7, 0, 4, 0, 5, 5, 4,\n",
       "        0, 1, 0, 3, 6, 6, 5, 0, 3, 1, 2, 0, 7, 6, 0, 3, 5, 2, 5, 5, 2, 3,\n",
       "        4, 6, 5, 1, 4, 0, 1, 0, 5, 1, 1, 0, 0, 0, 6, 3, 7, 7, 0, 2, 5, 0,\n",
       "        2, 1, 4, 3, 0, 5, 1, 0, 7, 3, 2, 0, 4, 2, 0, 0, 3, 0, 0, 7, 2, 5,\n",
       "        5, 7, 1, 5, 1, 4, 2, 3, 0, 6, 2, 0, 4, 3, 0, 6, 0, 2, 1, 6, 5, 1,\n",
       "        3, 6, 0, 0, 5, 4, 5, 3, 0, 4, 5, 5, 1, 1, 0, 6, 5, 6, 1, 4, 2, 6,\n",
       "        7, 2, 0, 6, 2, 5, 0, 0, 3, 4, 1, 1, 0, 3, 6, 3, 7, 5, 7, 1, 1, 0,\n",
       "        0, 7, 0, 4, 6, 7, 1, 3, 3, 7, 6, 0, 0, 2, 2, 4, 4, 1, 7, 7, 0, 5,\n",
       "        4, 1, 3, 2, 3, 3, 4, 0, 1, 2, 0, 0, 0, 7, 3, 6, 0, 4, 1, 2, 2, 5,\n",
       "        0, 5, 6, 5, 0, 0, 2, 0, 3, 0, 0, 6, 0, 1, 3, 5, 3, 3, 7, 6, 6, 0,\n",
       "        1, 3, 0, 0, 4, 5, 1, 0, 0, 3, 5, 0, 6, 0, 4, 7, 2, 1, 7, 0, 4, 0,\n",
       "        2, 3, 6, 7, 6, 4, 7, 5, 1, 0, 0, 2, 6, 4, 0, 4, 0, 7, 1, 6, 4, 0,\n",
       "        5, 4, 7, 0, 0, 0, 5, 7, 0, 7, 0, 5, 4, 2, 0, 1, 0, 6, 3, 0, 0, 3,\n",
       "        0, 6, 3, 0, 2, 3, 4, 5, 6, 5, 1, 5, 2, 0, 1, 7, 2, 3, 0, 0, 0, 7,\n",
       "        6, 1, 7, 6, 5, 0, 1, 0, 2, 0, 4, 7, 3, 0, 4, 2, 7, 2, 3, 0, 7, 6,\n",
       "        0, 3, 0, 0, 2, 0, 0, 4, 7, 0, 0, 5, 0, 7, 5, 5, 7, 5, 7, 4, 4, 1,\n",
       "        4, 6, 4, 1, 0, 7, 6, 4, 4, 5, 7, 4, 1, 7, 0, 4, 4, 3, 7, 6, 2, 1,\n",
       "        7, 0, 3, 5, 1, 7, 0, 0, 0, 5, 1, 5, 2, 2, 3, 3, 2, 5, 0, 4, 0, 4,\n",
       "        3, 4, 4, 7, 2, 2, 6, 2, 1, 0, 2, 3, 1, 2, 3, 0, 0, 0, 4, 5, 3, 3,\n",
       "        7, 3, 3, 3, 1, 3, 1, 5, 0, 4, 7, 1, 5, 0, 2, 0, 0, 4, 5, 7, 5, 0,\n",
       "        2, 2, 6, 1, 1, 3, 0, 1, 5, 0, 2, 5, 2, 0, 0, 6, 3, 2, 4, 2, 3, 0,\n",
       "        0, 6, 3, 3, 5, 4, 6, 0, 0, 4, 6, 1, 1, 6, 1, 6, 6, 7, 3, 1, 1, 6,\n",
       "        0, 0, 1, 5, 3, 3, 5, 4, 3, 0, 2, 3, 6, 3, 2, 4, 0, 0, 4, 7, 4, 3,\n",
       "        4, 4, 4, 1, 6, 2, 2, 6, 3, 1, 6, 2, 0, 2, 4, 2, 0, 2, 2, 7, 4, 2,\n",
       "        7, 6, 1, 0, 0, 7, 0, 2, 0, 3, 5, 7, 4, 6, 0, 2, 6, 0, 3, 5, 4, 4,\n",
       "        0, 0, 5, 1, 0, 1, 6, 0, 3, 6, 6, 0, 0, 6, 0, 1, 2, 0, 0, 0, 4, 7,\n",
       "        1, 7, 6, 5, 5, 5, 7, 0, 2, 4, 6, 2, 6, 2, 3, 5, 3, 3, 7, 1, 6, 2,\n",
       "        7, 1, 0, 0, 3, 5, 1, 1, 6, 2, 4, 1, 0, 4, 1, 7, 0, 6, 1, 7, 5, 1,\n",
       "        6, 0, 0, 0, 6, 0, 0, 6, 2, 6, 0, 7, 1, 4, 1, 2, 0, 0, 0, 6, 6, 7,\n",
       "        0, 0, 7, 5, 3, 5, 6, 3, 3, 0, 0, 5, 5, 0, 2, 0, 0, 4, 0, 1, 0, 6,\n",
       "        4, 1, 2, 4, 0, 0, 5, 7, 1, 3, 3, 0, 1, 3, 1, 6, 1, 7, 2, 2, 0, 5,\n",
       "        1, 4, 3, 4, 1, 0, 5, 5, 6, 0, 7, 0, 1, 0, 2, 2, 7, 3, 6, 7, 5, 0,\n",
       "        6, 3, 5, 1, 1, 2, 0, 0, 0, 7, 2, 4, 7, 0, 4, 0, 0, 6, 5, 1, 7, 7,\n",
       "        5, 0, 5, 2, 1, 0, 3, 6, 0, 2], dtype=int32))"
      ]
     },
     "execution_count": 174,
     "metadata": {},
     "output_type": "execute_result"
    }
   ],
   "source": [
    "vectors =  np.array(df_train.apply(vectorize_for_bonus_predict, merchant_id=None, merchants_db=merchants_df, params=service_params, axis=1).to_list())\n",
    "X = vectors[:,:-1].astype(np.float32)\n",
    "y = vectors[:,-1].astype(np.int32)\n",
    "X, y"
   ]
  },
  {
   "cell_type": "code",
   "execution_count": 175,
   "metadata": {},
   "outputs": [
    {
     "name": "stdout",
     "output_type": "stream",
     "text": [
      "      Iter       Train Loss   Remaining Time \n",
      "         1           1.9011           15.63s\n",
      "         2           1.8120           14.23s\n",
      "         3           1.7481           13.65s\n",
      "         4           1.6869           13.17s\n",
      "         5           1.6322           12.19s\n",
      "         6           1.5839           11.50s\n",
      "         7           1.5409           11.06s\n",
      "         8           1.5007           10.67s\n",
      "         9           1.4677           10.33s\n",
      "        10           1.4351           10.24s\n",
      "        20           1.2161            8.41s\n",
      "        30           1.0516            7.22s\n",
      "        40           0.9095            6.10s\n",
      "        50           0.7934            5.05s\n",
      "        60           0.6899            4.00s\n",
      "        70           0.6059            3.00s\n",
      "        80           0.5367            1.97s\n",
      "        90           0.4750            0.98s\n",
      "       100           0.4205            0.00s\n"
     ]
    },
    {
     "data": {
      "text/html": [
       "<style>#sk-container-id-8 {color: black;background-color: white;}#sk-container-id-8 pre{padding: 0;}#sk-container-id-8 div.sk-toggleable {background-color: white;}#sk-container-id-8 label.sk-toggleable__label {cursor: pointer;display: block;width: 100%;margin-bottom: 0;padding: 0.3em;box-sizing: border-box;text-align: center;}#sk-container-id-8 label.sk-toggleable__label-arrow:before {content: \"▸\";float: left;margin-right: 0.25em;color: #696969;}#sk-container-id-8 label.sk-toggleable__label-arrow:hover:before {color: black;}#sk-container-id-8 div.sk-estimator:hover label.sk-toggleable__label-arrow:before {color: black;}#sk-container-id-8 div.sk-toggleable__content {max-height: 0;max-width: 0;overflow: hidden;text-align: left;background-color: #f0f8ff;}#sk-container-id-8 div.sk-toggleable__content pre {margin: 0.2em;color: black;border-radius: 0.25em;background-color: #f0f8ff;}#sk-container-id-8 input.sk-toggleable__control:checked~div.sk-toggleable__content {max-height: 200px;max-width: 100%;overflow: auto;}#sk-container-id-8 input.sk-toggleable__control:checked~label.sk-toggleable__label-arrow:before {content: \"▾\";}#sk-container-id-8 div.sk-estimator input.sk-toggleable__control:checked~label.sk-toggleable__label {background-color: #d4ebff;}#sk-container-id-8 div.sk-label input.sk-toggleable__control:checked~label.sk-toggleable__label {background-color: #d4ebff;}#sk-container-id-8 input.sk-hidden--visually {border: 0;clip: rect(1px 1px 1px 1px);clip: rect(1px, 1px, 1px, 1px);height: 1px;margin: -1px;overflow: hidden;padding: 0;position: absolute;width: 1px;}#sk-container-id-8 div.sk-estimator {font-family: monospace;background-color: #f0f8ff;border: 1px dotted black;border-radius: 0.25em;box-sizing: border-box;margin-bottom: 0.5em;}#sk-container-id-8 div.sk-estimator:hover {background-color: #d4ebff;}#sk-container-id-8 div.sk-parallel-item::after {content: \"\";width: 100%;border-bottom: 1px solid gray;flex-grow: 1;}#sk-container-id-8 div.sk-label:hover label.sk-toggleable__label {background-color: #d4ebff;}#sk-container-id-8 div.sk-serial::before {content: \"\";position: absolute;border-left: 1px solid gray;box-sizing: border-box;top: 0;bottom: 0;left: 50%;z-index: 0;}#sk-container-id-8 div.sk-serial {display: flex;flex-direction: column;align-items: center;background-color: white;padding-right: 0.2em;padding-left: 0.2em;position: relative;}#sk-container-id-8 div.sk-item {position: relative;z-index: 1;}#sk-container-id-8 div.sk-parallel {display: flex;align-items: stretch;justify-content: center;background-color: white;position: relative;}#sk-container-id-8 div.sk-item::before, #sk-container-id-8 div.sk-parallel-item::before {content: \"\";position: absolute;border-left: 1px solid gray;box-sizing: border-box;top: 0;bottom: 0;left: 50%;z-index: -1;}#sk-container-id-8 div.sk-parallel-item {display: flex;flex-direction: column;z-index: 1;position: relative;background-color: white;}#sk-container-id-8 div.sk-parallel-item:first-child::after {align-self: flex-end;width: 50%;}#sk-container-id-8 div.sk-parallel-item:last-child::after {align-self: flex-start;width: 50%;}#sk-container-id-8 div.sk-parallel-item:only-child::after {width: 0;}#sk-container-id-8 div.sk-dashed-wrapped {border: 1px dashed gray;margin: 0 0.4em 0.5em 0.4em;box-sizing: border-box;padding-bottom: 0.4em;background-color: white;}#sk-container-id-8 div.sk-label label {font-family: monospace;font-weight: bold;display: inline-block;line-height: 1.2em;}#sk-container-id-8 div.sk-label-container {text-align: center;}#sk-container-id-8 div.sk-container {/* jupyter's `normalize.less` sets `[hidden] { display: none; }` but bootstrap.min.css set `[hidden] { display: none !important; }` so we also need the `!important` here to be able to override the default hidden behavior on the sphinx rendered scikit-learn.org. See: https://github.com/scikit-learn/scikit-learn/issues/21755 */display: inline-block !important;position: relative;}#sk-container-id-8 div.sk-text-repr-fallback {display: none;}</style><div id=\"sk-container-id-8\" class=\"sk-top-container\"><div class=\"sk-text-repr-fallback\"><pre>GradientBoostingClassifier(verbose=1)</pre><b>In a Jupyter environment, please rerun this cell to show the HTML representation or trust the notebook. <br />On GitHub, the HTML representation is unable to render, please try loading this page with nbviewer.org.</b></div><div class=\"sk-container\" hidden><div class=\"sk-item\"><div class=\"sk-estimator sk-toggleable\"><input class=\"sk-toggleable__control sk-hidden--visually\" id=\"sk-estimator-id-8\" type=\"checkbox\" checked><label for=\"sk-estimator-id-8\" class=\"sk-toggleable__label sk-toggleable__label-arrow\">GradientBoostingClassifier</label><div class=\"sk-toggleable__content\"><pre>GradientBoostingClassifier(verbose=1)</pre></div></div></div></div></div>"
      ],
      "text/plain": [
       "GradientBoostingClassifier(verbose=1)"
      ]
     },
     "execution_count": 175,
     "metadata": {},
     "output_type": "execute_result"
    }
   ],
   "source": [
    "gbc_clf = GradientBoostingClassifier(verbose=1)\n",
    "gbc_clf.fit(X, y)"
   ]
  },
  {
   "cell_type": "code",
   "execution_count": 178,
   "metadata": {},
   "outputs": [
    {
     "data": {
      "text/plain": [
       "array([5, 3, 1, 0, 0])"
      ]
     },
     "execution_count": 178,
     "metadata": {},
     "output_type": "execute_result"
    }
   ],
   "source": [
    "gbc_clf.predict_proba(X[5:10]).argmax(axis=1)"
   ]
  },
  {
   "cell_type": "code",
   "execution_count": 186,
   "metadata": {},
   "outputs": [
    {
     "data": {
      "text/plain": [
       "array([[2.9000000e+01, 1.5000000e+01, 8.9770001e+02, ..., 0.0000000e+00,\n",
       "        0.0000000e+00, 4.2934113e+00],\n",
       "       [2.1000000e+01, 1.2000000e+01, 6.9591001e+03, ..., 0.0000000e+00,\n",
       "        0.0000000e+00, 3.9118299e+00],\n",
       "       [3.1000000e+01, 1.9000000e+01, 5.2159998e+02, ..., 0.0000000e+00,\n",
       "        0.0000000e+00, 4.0160694e+00],\n",
       "       ...,\n",
       "       [3.0000000e+01, 1.2000000e+01, 3.4820000e+03, ..., 0.0000000e+00,\n",
       "        0.0000000e+00, 4.1674123e+00],\n",
       "       [2.9000000e+01, 1.4000000e+01, 7.8482998e+03, ..., 0.0000000e+00,\n",
       "        0.0000000e+00, 3.3899386e+00],\n",
       "       [2.9000000e+01, 1.3000000e+01, 5.0647002e+03, ..., 0.0000000e+00,\n",
       "        0.0000000e+00, 4.6465640e+00]], dtype=float32)"
      ]
     },
     "execution_count": 186,
     "metadata": {},
     "output_type": "execute_result"
    }
   ],
   "source": [
    "vectors =  np.array(df_train.apply(vectorize_for_neighbours_predict, params=service_params, axis=1).to_list())\n",
    "X = vectors.astype(np.float32)\n",
    "X"
   ]
  },
  {
   "cell_type": "code",
   "execution_count": 191,
   "metadata": {},
   "outputs": [
    {
     "data": {
      "text/html": [
       "<style>#sk-container-id-11 {color: black;background-color: white;}#sk-container-id-11 pre{padding: 0;}#sk-container-id-11 div.sk-toggleable {background-color: white;}#sk-container-id-11 label.sk-toggleable__label {cursor: pointer;display: block;width: 100%;margin-bottom: 0;padding: 0.3em;box-sizing: border-box;text-align: center;}#sk-container-id-11 label.sk-toggleable__label-arrow:before {content: \"▸\";float: left;margin-right: 0.25em;color: #696969;}#sk-container-id-11 label.sk-toggleable__label-arrow:hover:before {color: black;}#sk-container-id-11 div.sk-estimator:hover label.sk-toggleable__label-arrow:before {color: black;}#sk-container-id-11 div.sk-toggleable__content {max-height: 0;max-width: 0;overflow: hidden;text-align: left;background-color: #f0f8ff;}#sk-container-id-11 div.sk-toggleable__content pre {margin: 0.2em;color: black;border-radius: 0.25em;background-color: #f0f8ff;}#sk-container-id-11 input.sk-toggleable__control:checked~div.sk-toggleable__content {max-height: 200px;max-width: 100%;overflow: auto;}#sk-container-id-11 input.sk-toggleable__control:checked~label.sk-toggleable__label-arrow:before {content: \"▾\";}#sk-container-id-11 div.sk-estimator input.sk-toggleable__control:checked~label.sk-toggleable__label {background-color: #d4ebff;}#sk-container-id-11 div.sk-label input.sk-toggleable__control:checked~label.sk-toggleable__label {background-color: #d4ebff;}#sk-container-id-11 input.sk-hidden--visually {border: 0;clip: rect(1px 1px 1px 1px);clip: rect(1px, 1px, 1px, 1px);height: 1px;margin: -1px;overflow: hidden;padding: 0;position: absolute;width: 1px;}#sk-container-id-11 div.sk-estimator {font-family: monospace;background-color: #f0f8ff;border: 1px dotted black;border-radius: 0.25em;box-sizing: border-box;margin-bottom: 0.5em;}#sk-container-id-11 div.sk-estimator:hover {background-color: #d4ebff;}#sk-container-id-11 div.sk-parallel-item::after {content: \"\";width: 100%;border-bottom: 1px solid gray;flex-grow: 1;}#sk-container-id-11 div.sk-label:hover label.sk-toggleable__label {background-color: #d4ebff;}#sk-container-id-11 div.sk-serial::before {content: \"\";position: absolute;border-left: 1px solid gray;box-sizing: border-box;top: 0;bottom: 0;left: 50%;z-index: 0;}#sk-container-id-11 div.sk-serial {display: flex;flex-direction: column;align-items: center;background-color: white;padding-right: 0.2em;padding-left: 0.2em;position: relative;}#sk-container-id-11 div.sk-item {position: relative;z-index: 1;}#sk-container-id-11 div.sk-parallel {display: flex;align-items: stretch;justify-content: center;background-color: white;position: relative;}#sk-container-id-11 div.sk-item::before, #sk-container-id-11 div.sk-parallel-item::before {content: \"\";position: absolute;border-left: 1px solid gray;box-sizing: border-box;top: 0;bottom: 0;left: 50%;z-index: -1;}#sk-container-id-11 div.sk-parallel-item {display: flex;flex-direction: column;z-index: 1;position: relative;background-color: white;}#sk-container-id-11 div.sk-parallel-item:first-child::after {align-self: flex-end;width: 50%;}#sk-container-id-11 div.sk-parallel-item:last-child::after {align-self: flex-start;width: 50%;}#sk-container-id-11 div.sk-parallel-item:only-child::after {width: 0;}#sk-container-id-11 div.sk-dashed-wrapped {border: 1px dashed gray;margin: 0 0.4em 0.5em 0.4em;box-sizing: border-box;padding-bottom: 0.4em;background-color: white;}#sk-container-id-11 div.sk-label label {font-family: monospace;font-weight: bold;display: inline-block;line-height: 1.2em;}#sk-container-id-11 div.sk-label-container {text-align: center;}#sk-container-id-11 div.sk-container {/* jupyter's `normalize.less` sets `[hidden] { display: none; }` but bootstrap.min.css set `[hidden] { display: none !important; }` so we also need the `!important` here to be able to override the default hidden behavior on the sphinx rendered scikit-learn.org. See: https://github.com/scikit-learn/scikit-learn/issues/21755 */display: inline-block !important;position: relative;}#sk-container-id-11 div.sk-text-repr-fallback {display: none;}</style><div id=\"sk-container-id-11\" class=\"sk-top-container\"><div class=\"sk-text-repr-fallback\"><pre>NearestNeighbors(algorithm=&#x27;ball_tree&#x27;)</pre><b>In a Jupyter environment, please rerun this cell to show the HTML representation or trust the notebook. <br />On GitHub, the HTML representation is unable to render, please try loading this page with nbviewer.org.</b></div><div class=\"sk-container\" hidden><div class=\"sk-item\"><div class=\"sk-estimator sk-toggleable\"><input class=\"sk-toggleable__control sk-hidden--visually\" id=\"sk-estimator-id-11\" type=\"checkbox\" checked><label for=\"sk-estimator-id-11\" class=\"sk-toggleable__label sk-toggleable__label-arrow\">NearestNeighbors</label><div class=\"sk-toggleable__content\"><pre>NearestNeighbors(algorithm=&#x27;ball_tree&#x27;)</pre></div></div></div></div></div>"
      ],
      "text/plain": [
       "NearestNeighbors(algorithm='ball_tree')"
      ]
     },
     "execution_count": 191,
     "metadata": {},
     "output_type": "execute_result"
    }
   ],
   "source": [
    "nbrs_clf = NearestNeighbors(n_neighbors=5, algorithm='ball_tree')\n",
    "nbrs_clf.fit(X)"
   ]
  },
  {
   "cell_type": "code",
   "execution_count": 190,
   "metadata": {},
   "outputs": [
    {
     "ename": "NotFittedError",
     "evalue": "This NearestNeighbors instance is not fitted yet. Call 'fit' with appropriate arguments before using this estimator.",
     "output_type": "error",
     "traceback": [
      "\u001b[0;31m---------------------------------------------------------------------------\u001b[0m",
      "\u001b[0;31mNotFittedError\u001b[0m                            Traceback (most recent call last)",
      "Cell \u001b[0;32mIn[190], line 1\u001b[0m\n\u001b[0;32m----> 1\u001b[0m distances, indices \u001b[39m=\u001b[39m nbrs_clf\u001b[39m.\u001b[39;49mkneighbors(X[:\u001b[39m1\u001b[39;49m])\n\u001b[1;32m      2\u001b[0m nearest \u001b[39m=\u001b[39m df_train\u001b[39m.\u001b[39miloc[indices[\u001b[39m0\u001b[39m]]\n\u001b[1;32m      3\u001b[0m nearest, distances\n",
      "File \u001b[0;32m~/.venvs/sharedenv/lib/python3.10/site-packages/sklearn/neighbors/_base.py:784\u001b[0m, in \u001b[0;36mKNeighborsMixin.kneighbors\u001b[0;34m(self, X, n_neighbors, return_distance)\u001b[0m\n\u001b[1;32m    732\u001b[0m \u001b[39mdef\u001b[39;00m \u001b[39mkneighbors\u001b[39m(\u001b[39mself\u001b[39m, X\u001b[39m=\u001b[39m\u001b[39mNone\u001b[39;00m, n_neighbors\u001b[39m=\u001b[39m\u001b[39mNone\u001b[39;00m, return_distance\u001b[39m=\u001b[39m\u001b[39mTrue\u001b[39;00m):\n\u001b[1;32m    733\u001b[0m \u001b[39m    \u001b[39m\u001b[39m\"\"\"Find the K-neighbors of a point.\u001b[39;00m\n\u001b[1;32m    734\u001b[0m \n\u001b[1;32m    735\u001b[0m \u001b[39m    Returns indices of and distances to the neighbors of each point.\u001b[39;00m\n\u001b[0;32m   (...)\u001b[0m\n\u001b[1;32m    782\u001b[0m \u001b[39m           [2]]...)\u001b[39;00m\n\u001b[1;32m    783\u001b[0m \u001b[39m    \"\"\"\u001b[39;00m\n\u001b[0;32m--> 784\u001b[0m     check_is_fitted(\u001b[39mself\u001b[39;49m)\n\u001b[1;32m    786\u001b[0m     \u001b[39mif\u001b[39;00m n_neighbors \u001b[39mis\u001b[39;00m \u001b[39mNone\u001b[39;00m:\n\u001b[1;32m    787\u001b[0m         n_neighbors \u001b[39m=\u001b[39m \u001b[39mself\u001b[39m\u001b[39m.\u001b[39mn_neighbors\n",
      "File \u001b[0;32m~/.venvs/sharedenv/lib/python3.10/site-packages/sklearn/utils/validation.py:1390\u001b[0m, in \u001b[0;36mcheck_is_fitted\u001b[0;34m(estimator, attributes, msg, all_or_any)\u001b[0m\n\u001b[1;32m   1385\u001b[0m     fitted \u001b[39m=\u001b[39m [\n\u001b[1;32m   1386\u001b[0m         v \u001b[39mfor\u001b[39;00m v \u001b[39min\u001b[39;00m \u001b[39mvars\u001b[39m(estimator) \u001b[39mif\u001b[39;00m v\u001b[39m.\u001b[39mendswith(\u001b[39m\"\u001b[39m\u001b[39m_\u001b[39m\u001b[39m\"\u001b[39m) \u001b[39mand\u001b[39;00m \u001b[39mnot\u001b[39;00m v\u001b[39m.\u001b[39mstartswith(\u001b[39m\"\u001b[39m\u001b[39m__\u001b[39m\u001b[39m\"\u001b[39m)\n\u001b[1;32m   1387\u001b[0m     ]\n\u001b[1;32m   1389\u001b[0m \u001b[39mif\u001b[39;00m \u001b[39mnot\u001b[39;00m fitted:\n\u001b[0;32m-> 1390\u001b[0m     \u001b[39mraise\u001b[39;00m NotFittedError(msg \u001b[39m%\u001b[39m {\u001b[39m\"\u001b[39m\u001b[39mname\u001b[39m\u001b[39m\"\u001b[39m: \u001b[39mtype\u001b[39m(estimator)\u001b[39m.\u001b[39m\u001b[39m__name__\u001b[39m})\n",
      "\u001b[0;31mNotFittedError\u001b[0m: This NearestNeighbors instance is not fitted yet. Call 'fit' with appropriate arguments before using this estimator."
     ]
    }
   ],
   "source": [
    "distances, indices = nbrs_clf.kneighbors(X[:1])\n",
    "nearest = df_train.iloc[indices[0]]\n",
    "nearest, distances"
   ]
  },
  {
   "cell_type": "code",
   "execution_count": 182,
   "metadata": {},
   "outputs": [],
   "source": [
    "# Import models and data for inference\n",
    "\n",
    "gbc_filename = 'data/gbc.clf'\n",
    "nbrs_filename = 'data/nbrs.clf'\n",
    "service_params_filename = 'data/service.params'\n",
    "pickle.dump(gbc_clf, open(gbc_filename, 'wb'))\n",
    "pickle.dump(nbrs_clf, open(nbrs_filename, 'wb'))\n",
    "pickle.dump(service_params, open(service_params_filename, 'wb'))\n",
    "df_train.to_csv('data/train_db.csv', index=False)\n",
    "df_test.to_csv('data/test_db.csv', index=False)\n",
    "merchants_df.to_csv('data/merchants_db.csv', index=False)"
   ]
  }
 ],
 "metadata": {
  "kernelspec": {
   "display_name": "sharedenv",
   "language": "python",
   "name": "python3"
  },
  "language_info": {
   "codemirror_mode": {
    "name": "ipython",
    "version": 3
   },
   "file_extension": ".py",
   "mimetype": "text/x-python",
   "name": "python",
   "nbconvert_exporter": "python",
   "pygments_lexer": "ipython3",
   "version": "3.10.6"
  },
  "orig_nbformat": 4
 },
 "nbformat": 4,
 "nbformat_minor": 2
}
