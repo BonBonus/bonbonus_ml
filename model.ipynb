{
 "cells": [
  {
   "cell_type": "code",
   "execution_count": 1,
   "metadata": {},
   "outputs": [],
   "source": [
    "%load_ext autoreload\n",
    "%autoreload 2"
   ]
  },
  {
   "cell_type": "code",
   "execution_count": 2,
   "metadata": {},
   "outputs": [],
   "source": [
    "from sklearn.linear_model import SGDRegressor\n",
    "from random import sample\n",
    "from functools import lru_cache\n",
    "import pandas as pd\n",
    "import numpy as np\n",
    "import matplotlib.pyplot as plt\n",
    "import re\n",
    "from tqdm import tqdm\n",
    "import random\n",
    "from sklearn.feature_extraction.text import TfidfVectorizer\n",
    "from scipy.sparse import hstack\n",
    "\n",
    "from sklearn.datasets import make_classification\n",
    "from sklearn.preprocessing import minmax_scale\n",
    "from scipy.stats import truncnorm\n",
    "from scipy.stats import skewnorm\n",
    "\n",
    "from sklearn.ensemble import GradientBoostingClassifier\n",
    "from sklearn.ensemble import RandomForestClassifier\n",
    "from sklearn.neighbors import NearestNeighbors\n",
    "\n",
    "from utils import ServiceParams, vectorize_for_bonus_predict, vectorize_for_neighbours_predict\n",
    "\n",
    "import pickle\n",
    "\n",
    "SEED = 42\n",
    "\n",
    "random.seed(SEED)\n",
    "np.random.seed(SEED)"
   ]
  },
  {
   "cell_type": "code",
   "execution_count": 3,
   "metadata": {},
   "outputs": [],
   "source": [
    "train_dataset_len = 20_000\n",
    "test_dataset_len = 5000"
   ]
  },
  {
   "cell_type": "code",
   "execution_count": 4,
   "metadata": {},
   "outputs": [
    {
     "data": {
      "text/plain": [
       "(array([3.100e+02, 9.250e+02, 1.998e+03, 9.900e+02, 1.901e+03, 9.010e+02,\n",
       "        1.786e+03, 8.630e+02, 7.890e+02, 1.550e+03, 6.870e+02, 1.263e+03,\n",
       "        5.530e+02, 1.033e+03, 4.640e+02, 8.060e+02, 3.790e+02, 3.120e+02,\n",
       "        5.760e+02, 2.290e+02, 4.060e+02, 1.550e+02, 3.000e+02, 1.140e+02,\n",
       "        9.600e+01, 1.650e+02, 6.400e+01, 1.080e+02, 4.100e+01, 6.100e+01,\n",
       "        3.300e+01, 4.400e+01, 1.500e+01, 2.700e+01, 2.100e+01, 6.000e+00,\n",
       "        1.100e+01, 6.000e+00, 1.000e+00, 2.000e+00, 2.000e+00, 0.000e+00,\n",
       "        2.000e+00, 2.000e+00, 2.000e+00, 0.000e+00, 0.000e+00, 0.000e+00,\n",
       "        0.000e+00, 1.000e+00]),\n",
       " array([18.  , 19.44, 20.88, 22.32, 23.76, 25.2 , 26.64, 28.08, 29.52,\n",
       "        30.96, 32.4 , 33.84, 35.28, 36.72, 38.16, 39.6 , 41.04, 42.48,\n",
       "        43.92, 45.36, 46.8 , 48.24, 49.68, 51.12, 52.56, 54.  , 55.44,\n",
       "        56.88, 58.32, 59.76, 61.2 , 62.64, 64.08, 65.52, 66.96, 68.4 ,\n",
       "        69.84, 71.28, 72.72, 74.16, 75.6 , 77.04, 78.48, 79.92, 81.36,\n",
       "        82.8 , 84.24, 85.68, 87.12, 88.56, 90.  ]),\n",
       " <BarContainer object of 50 artists>)"
      ]
     },
     "execution_count": 4,
     "metadata": {},
     "output_type": "execute_result"
    },
    {
     "data": {
      "image/png": "[encoded data removed]",
      "text/plain": [
       "<Figure size 640x480 with 1 Axes>"
      ]
     },
     "metadata": {},
     "output_type": "display_data"
    }
   ],
   "source": [
    "skewness = 30\n",
    "\n",
    "age = skewnorm.rvs(a = skewness, size=train_dataset_len)\n",
    "age = minmax_scale(age, feature_range=(18, 90))\n",
    "age = age.round()\n",
    "df_train = pd.DataFrame(age, columns=['age'])\n",
    "\n",
    "age = skewnorm.rvs(a = skewness, size=test_dataset_len)\n",
    "age = minmax_scale(age, feature_range=(18, 90))\n",
    "age = age.round()\n",
    "df_test = pd.DataFrame(age, columns=['age'])\n",
    "\n",
    "plt.hist(df_train.age, bins=50)"
   ]
  },
  {
   "cell_type": "code",
   "execution_count": 5,
   "metadata": {},
   "outputs": [
    {
     "data": {
      "text/plain": [
       "{0: 'electronics',\n",
       " 1: 'fashion',\n",
       " 2: 'beauty and personal care',\n",
       " 3: 'home and kitchen',\n",
       " 4: 'sports and fitness',\n",
       " 5: 'toys and games',\n",
       " 6: 'books and media',\n",
       " 7: 'food and beverages',\n",
       " 8: 'health and wellness',\n",
       " 9: 'automotive',\n",
       " 10: 'pet supplies',\n",
       " 11: 'office supplies',\n",
       " 12: 'music',\n",
       " 13: 'travel and leisure',\n",
       " 14: 'art and crafts',\n",
       " 15: 'garden and outdoor',\n",
       " 16: 'baby and kids',\n",
       " 17: 'industrial and scientific',\n",
       " 18: 'party supplies',\n",
       " 19: 'education and learning'}"
      ]
     },
     "execution_count": 5,
     "metadata": {},
     "output_type": "execute_result"
    }
   ],
   "source": [
    "# Service engage type\n",
    "merchant_mcc_and_description = [\n",
    "    \"Electronics: Products such as smartphones, laptops, tablets, TVs, and gaming consoles\",\n",
    "    \"Fashion: Clothing, shoes, handbags, accessories, and jewelry\",\n",
    "    \"Beauty and personal care: Makeup, skincare, haircare, and grooming products\",\n",
    "    \"Home and kitchen: Appliances, furniture, home decor, and cookware\",\n",
    "    \"Sports and fitness: Athletic clothing, equipment, and supplements\",\n",
    "    \"Toys and games: Board games, puzzles, action figures, and dolls\",\n",
    "    \"Books and media: Fiction and non-fiction books, magazines, and DVDs\",\n",
    "    \"Food and beverages: Snacks, drinks, and packaged foods\",\n",
    "    \"Health and wellness: Vitamins, supplements, and medical devices\",\n",
    "    \"Automotive: Cars, motorcycles, bicycles, and accessories\",\n",
    "    \"Pet supplies: Products such as food, toys, and accessories for dogs, cats, and other pets\",\n",
    "    \"Office supplies: Stationery, printers, and office furniture\",\n",
    "    \"Music: Instruments, sheet music, and audio equipment\",\n",
    "    \"Travel and leisure: Luggage, travel accessories, and camping gear\",\n",
    "    \"Art and crafts: Supplies for drawing, painting, and crafting\",\n",
    "    \"Garden and outdoor: Tools, planters, and outdoor furniture\",\n",
    "    \"Baby and kids: Clothing, toys, and baby gear\",\n",
    "    \"Industrial and scientific: Laboratory equipment, machinery, and scientific instruments\",\n",
    "    \"Party supplies: Decorations, party favors, and supplies for hosting events\",\n",
    "    \"Education and learning: Products such as textbooks, online courses, educational toys, and educational software for learners of all ages\"\n",
    "]\n",
    "\n",
    "merchant_mcc = ['electronics',\n",
    " 'fashion',\n",
    " 'beauty and personal care',\n",
    " 'home and kitchen',\n",
    " 'sports and fitness',\n",
    " 'toys and games',\n",
    " 'books and media',\n",
    " 'food and beverages',\n",
    " 'health and wellness',\n",
    " 'automotive',\n",
    " 'pet supplies',\n",
    " 'office supplies',\n",
    " 'music',\n",
    " 'travel and leisure',\n",
    " 'art and crafts',\n",
    " 'garden and outdoor',\n",
    " 'baby and kids',\n",
    " 'industrial and scientific',\n",
    " 'party supplies',\n",
    " 'education and learning']\n",
    "\n",
    "bonus_type = [\n",
    "    'welcome',\n",
    "    'loyalty',\n",
    "    'discount',\n",
    "    'cashback',\n",
    "    'up-sell',\n",
    "    'gift',\n",
    "    'early-access',\n",
    "]\n",
    "\n",
    "merchant_id_to_amount_range = {\n",
    "    0: ['electronics', range(50, 10_000)],\n",
    "    1: ['fashion', range(10, 10_000)],\n",
    "    2: ['beauty and personal care', range(5, 500)],\n",
    "    3: ['home and kitchen', range(10, 20_000)],\n",
    "    4: ['sports and fitness', range(5, 5_000)],\n",
    "    5: ['toys and games', range(5, 1000)],\n",
    "    6: ['books and media', range(5, 1000)],\n",
    "    7: ['food and beverages', range(1, 100)],\n",
    "    8: ['health and wellness', range(5, 1000)],\n",
    "    9: ['automotive', range(5_000, 100_000)],\n",
    "    10: ['pet supplies', range(5, 1000)],\n",
    "    11: ['office supplies', range(1, 10_000)],\n",
    "    12: ['music', range(50, 10_000)],\n",
    "    13: ['travel and leisure', range(50, 10_000)],\n",
    "    14: ['art and crafts', range(5, 1000)],\n",
    "    15: ['garden and outdoor', range(10, 20_000)],\n",
    "    16: ['baby and kids', range(5, 1_000)],\n",
    "    17: ['industrial and scientific', range(10, 100_000)],\n",
    "    18: ['party supplies', range(5, 1_000)],\n",
    "    19: ['education and learning', range(10, 10_000)]\n",
    " }\n",
    "\n",
    "id2merchantName = { i : desc for i, desc in enumerate(merchant_mcc) }\n",
    "merchantName2id = { desc : i for i, desc in enumerate(merchant_mcc) }\n",
    "id2bonusName = { i : desc for i, desc in enumerate(bonus_type) }\n",
    "bonusName2id = { desc : i for i, desc in enumerate(bonus_type) }\n",
    "id2merchantName"
   ]
  },
  {
   "cell_type": "code",
   "execution_count": 6,
   "metadata": {},
   "outputs": [],
   "source": [
    "def get_truncated_normal(mean=0, sd=1, low=0, upp=10):\n",
    "    return truncnorm(\n",
    "        (low - mean) / sd, (upp - mean) / sd, loc=mean, scale=sd)"
   ]
  },
  {
   "cell_type": "code",
   "execution_count": 7,
   "metadata": {},
   "outputs": [
    {
     "data": {
      "text/html": [
       "<div>\n",
       "<style scoped>\n",
       "    .dataframe tbody tr th:only-of-type {\n",
       "        vertical-align: middle;\n",
       "    }\n",
       "\n",
       "    .dataframe tbody tr th {\n",
       "        vertical-align: top;\n",
       "    }\n",
       "\n",
       "    .dataframe thead th {\n",
       "        text-align: right;\n",
       "    }\n",
       "</style>\n",
       "<table border=\"1\" class=\"dataframe\">\n",
       "  <thead>\n",
       "    <tr style=\"text-align: right;\">\n",
       "      <th></th>\n",
       "      <th>merchant_mcc</th>\n",
       "      <th>bonuses_available</th>\n",
       "    </tr>\n",
       "  </thead>\n",
       "  <tbody>\n",
       "    <tr>\n",
       "      <th>0</th>\n",
       "      <td>home and kitchen</td>\n",
       "      <td>[]</td>\n",
       "    </tr>\n",
       "    <tr>\n",
       "      <th>1</th>\n",
       "      <td>health and wellness</td>\n",
       "      <td>[loyalty, early-access, welcome]</td>\n",
       "    </tr>\n",
       "    <tr>\n",
       "      <th>2</th>\n",
       "      <td>industrial and scientific</td>\n",
       "      <td>[up-sell]</td>\n",
       "    </tr>\n",
       "    <tr>\n",
       "      <th>3</th>\n",
       "      <td>travel and leisure</td>\n",
       "      <td>[]</td>\n",
       "    </tr>\n",
       "    <tr>\n",
       "      <th>4</th>\n",
       "      <td>electronics</td>\n",
       "      <td>[loyalty]</td>\n",
       "    </tr>\n",
       "    <tr>\n",
       "      <th>...</th>\n",
       "      <td>...</td>\n",
       "      <td>...</td>\n",
       "    </tr>\n",
       "    <tr>\n",
       "      <th>995</th>\n",
       "      <td>industrial and scientific</td>\n",
       "      <td>[discount]</td>\n",
       "    </tr>\n",
       "    <tr>\n",
       "      <th>996</th>\n",
       "      <td>garden and outdoor</td>\n",
       "      <td>[loyalty, discount, welcome, early-access]</td>\n",
       "    </tr>\n",
       "    <tr>\n",
       "      <th>997</th>\n",
       "      <td>home and kitchen</td>\n",
       "      <td>[gift, cashback, discount]</td>\n",
       "    </tr>\n",
       "    <tr>\n",
       "      <th>998</th>\n",
       "      <td>electronics</td>\n",
       "      <td>[early-access, discount]</td>\n",
       "    </tr>\n",
       "    <tr>\n",
       "      <th>999</th>\n",
       "      <td>party supplies</td>\n",
       "      <td>[cashback]</td>\n",
       "    </tr>\n",
       "  </tbody>\n",
       "</table>\n",
       "<p>1000 rows × 2 columns</p>\n",
       "</div>"
      ],
      "text/plain": [
       "                  merchant_mcc                           bonuses_available\n",
       "0             home and kitchen                                          []\n",
       "1          health and wellness            [loyalty, early-access, welcome]\n",
       "2    industrial and scientific                                   [up-sell]\n",
       "3           travel and leisure                                          []\n",
       "4                  electronics                                   [loyalty]\n",
       "..                         ...                                         ...\n",
       "995  industrial and scientific                                  [discount]\n",
       "996         garden and outdoor  [loyalty, discount, welcome, early-access]\n",
       "997           home and kitchen                  [gift, cashback, discount]\n",
       "998                electronics                    [early-access, discount]\n",
       "999             party supplies                                  [cashback]\n",
       "\n",
       "[1000 rows x 2 columns]"
      ]
     },
     "execution_count": 7,
     "metadata": {},
     "output_type": "execute_result"
    }
   ],
   "source": [
    "number_of_stores = 1000\n",
    "merchants_df = pd.DataFrame(index=range(0,number_of_stores), columns=['merchant_mcc', 'bonuses_available'])\n",
    "def generate_random_stores(row):\n",
    "    row['merchant_mcc'] = sample(merchant_mcc, 1)[0]\n",
    "    row['bonuses_available'] = sample(bonus_type, random.randint(0, len(bonus_type)))\n",
    "    return row\n",
    "    \n",
    "merchants_df = merchants_df.apply(generate_random_stores, axis=1)\n",
    "merchants_df"
   ]
  },
  {
   "cell_type": "code",
   "execution_count": 8,
   "metadata": {},
   "outputs": [
    {
     "data": {
      "text/html": [
       "<div>\n",
       "<style scoped>\n",
       "    .dataframe tbody tr th:only-of-type {\n",
       "        vertical-align: middle;\n",
       "    }\n",
       "\n",
       "    .dataframe tbody tr th {\n",
       "        vertical-align: top;\n",
       "    }\n",
       "\n",
       "    .dataframe thead th {\n",
       "        text-align: right;\n",
       "    }\n",
       "</style>\n",
       "<table border=\"1\" class=\"dataframe\">\n",
       "  <thead>\n",
       "    <tr style=\"text-align: right;\">\n",
       "      <th></th>\n",
       "      <th>age</th>\n",
       "      <th>purchase_history</th>\n",
       "      <th>rating</th>\n",
       "      <th>current_merchant_id</th>\n",
       "      <th>bonus_to_offer</th>\n",
       "    </tr>\n",
       "  </thead>\n",
       "  <tbody>\n",
       "    <tr>\n",
       "      <th>0</th>\n",
       "      <td>27.0</td>\n",
       "      <td>[[home and kitchen, 5663.1], [books and media,...</td>\n",
       "      <td>1.798534</td>\n",
       "      <td>808</td>\n",
       "      <td>up-sell</td>\n",
       "    </tr>\n",
       "    <tr>\n",
       "      <th>1</th>\n",
       "      <td>21.0</td>\n",
       "      <td>[[beauty and personal care, 104.9], [sports an...</td>\n",
       "      <td>4.353624</td>\n",
       "      <td>9</td>\n",
       "      <td></td>\n",
       "    </tr>\n",
       "    <tr>\n",
       "      <th>2</th>\n",
       "      <td>29.0</td>\n",
       "      <td>[[garden and outdoor, 2059.2], [education and ...</td>\n",
       "      <td>4.936684</td>\n",
       "      <td>992</td>\n",
       "      <td>loyalty</td>\n",
       "    </tr>\n",
       "    <tr>\n",
       "      <th>3</th>\n",
       "      <td>44.0</td>\n",
       "      <td>[[fashion, 4291.1], [books and media, 866.0]]</td>\n",
       "      <td>4.962118</td>\n",
       "      <td>595</td>\n",
       "      <td>cashback</td>\n",
       "    </tr>\n",
       "    <tr>\n",
       "      <th>4</th>\n",
       "      <td>24.0</td>\n",
       "      <td>[[art and crafts, 271.4], [music, 8099.5], [in...</td>\n",
       "      <td>3.198165</td>\n",
       "      <td>707</td>\n",
       "      <td></td>\n",
       "    </tr>\n",
       "    <tr>\n",
       "      <th>...</th>\n",
       "      <td>...</td>\n",
       "      <td>...</td>\n",
       "      <td>...</td>\n",
       "      <td>...</td>\n",
       "      <td>...</td>\n",
       "    </tr>\n",
       "    <tr>\n",
       "      <th>19995</th>\n",
       "      <td>26.0</td>\n",
       "      <td>[[industrial and scientific, 71125.8], [indust...</td>\n",
       "      <td>4.328831</td>\n",
       "      <td>112</td>\n",
       "      <td>cashback</td>\n",
       "    </tr>\n",
       "    <tr>\n",
       "      <th>19996</th>\n",
       "      <td>41.0</td>\n",
       "      <td>[[baby and kids, 523.8], [industrial and scien...</td>\n",
       "      <td>3.209066</td>\n",
       "      <td>708</td>\n",
       "      <td></td>\n",
       "    </tr>\n",
       "    <tr>\n",
       "      <th>19997</th>\n",
       "      <td>26.0</td>\n",
       "      <td>[[baby and kids, 244.6], [garden and outdoor, ...</td>\n",
       "      <td>3.229775</td>\n",
       "      <td>509</td>\n",
       "      <td></td>\n",
       "    </tr>\n",
       "    <tr>\n",
       "      <th>19998</th>\n",
       "      <td>47.0</td>\n",
       "      <td>[[beauty and personal care, 18.6]]</td>\n",
       "      <td>4.899177</td>\n",
       "      <td>878</td>\n",
       "      <td>loyalty</td>\n",
       "    </tr>\n",
       "    <tr>\n",
       "      <th>19999</th>\n",
       "      <td>45.0</td>\n",
       "      <td>[[office supplies, 5314.2], [food and beverage...</td>\n",
       "      <td>3.291858</td>\n",
       "      <td>366</td>\n",
       "      <td>loyalty</td>\n",
       "    </tr>\n",
       "  </tbody>\n",
       "</table>\n",
       "<p>20000 rows × 5 columns</p>\n",
       "</div>"
      ],
      "text/plain": [
       "        age                                   purchase_history    rating  \\\n",
       "0      27.0  [[home and kitchen, 5663.1], [books and media,...  1.798534   \n",
       "1      21.0  [[beauty and personal care, 104.9], [sports an...  4.353624   \n",
       "2      29.0  [[garden and outdoor, 2059.2], [education and ...  4.936684   \n",
       "3      44.0      [[fashion, 4291.1], [books and media, 866.0]]  4.962118   \n",
       "4      24.0  [[art and crafts, 271.4], [music, 8099.5], [in...  3.198165   \n",
       "...     ...                                                ...       ...   \n",
       "19995  26.0  [[industrial and scientific, 71125.8], [indust...  4.328831   \n",
       "19996  41.0  [[baby and kids, 523.8], [industrial and scien...  3.209066   \n",
       "19997  26.0  [[baby and kids, 244.6], [garden and outdoor, ...  3.229775   \n",
       "19998  47.0                 [[beauty and personal care, 18.6]]  4.899177   \n",
       "19999  45.0  [[office supplies, 5314.2], [food and beverage...  3.291858   \n",
       "\n",
       "       current_merchant_id bonus_to_offer  \n",
       "0                      808        up-sell  \n",
       "1                        9                 \n",
       "2                      992        loyalty  \n",
       "3                      595       cashback  \n",
       "4                      707                 \n",
       "...                    ...            ...  \n",
       "19995                  112       cashback  \n",
       "19996                  708                 \n",
       "19997                  509                 \n",
       "19998                  878        loyalty  \n",
       "19999                  366        loyalty  \n",
       "\n",
       "[20000 rows x 5 columns]"
      ]
     },
     "execution_count": 8,
     "metadata": {},
     "output_type": "execute_result"
    }
   ],
   "source": [
    "# Purchase history generation {purchase_type, amount} random purchase_type, random amount\n",
    "min_number_purchase = 0\n",
    "max_number_purchase = 50\n",
    "min_amount_bonus_points_available = 0\n",
    "max_amount_bonus_points_available = 99_999_999\n",
    "min_amount_assets_available = 0\n",
    "max_amount_assets_available = 99_999_999\n",
    "min_number_transactions = 0\n",
    "max_number_transactions = 99_999_999\n",
    "\n",
    "random_rating = get_truncated_normal(mean=10, sd=2, low=1, upp=5).rvs(train_dataset_len)\n",
    "\n",
    "def generate_purchase_history(row, train=True):\n",
    "    number_of_purchases = np.random.randint(min_number_purchase, max_number_purchase, 1)[0]\n",
    "    purchase_preferences = np.random.randint(0, len(merchant_id_to_amount_range), 1)[0] \n",
    "    truncated_normal = get_truncated_normal(mean=purchase_preferences, sd=2, low=0, upp=len(merchant_id_to_amount_range)-1)\n",
    "    indices = truncated_normal.rvs(number_of_purchases).round()\n",
    "    current_merchant_id = random.randint(0, number_of_stores-1)\n",
    "    current_merchant = merchants_df.iloc[current_merchant_id]\n",
    "    bonuses_available = current_merchant.bonuses_available\n",
    "    purchase_history = []\n",
    "    purchase_history_names = []\n",
    "    rating = random_rating[row.name]\n",
    "    for purchase_id in indices:\n",
    "        purchase_name, range = merchant_id_to_amount_range[purchase_id]\n",
    "        purchase_history.append([purchase_name, np.around(np.random.uniform(range[0], range[-1]+1, 1), 1)[0]])\n",
    "        purchase_history_names.append(purchase_name)\n",
    "    row['purchase_history'] = purchase_history\n",
    "    row['rating'] = rating\n",
    "    if train:\n",
    "        row['current_merchant_id'] = current_merchant_id\n",
    "        if len(bonuses_available) > 0 and rating >= np.random.uniform(1.0, 5.0):\n",
    "            bonuse_to_offer = sample(bonuses_available, 1)[0]\n",
    "        else:\n",
    "            bonuse_to_offer = ''\n",
    "        row['bonus_to_offer'] = bonuse_to_offer\n",
    "    return row\n",
    "\n",
    "\n",
    "df_train = df_train.apply(generate_purchase_history, axis = 1)\n",
    "df_test = df_test.apply(generate_purchase_history, train=False, axis = 1)\n",
    "df_train"
   ]
  },
  {
   "cell_type": "code",
   "execution_count": 9,
   "metadata": {},
   "outputs": [],
   "source": [
    "service_params = ServiceParams(\n",
    "    max_number_purchase = max_number_purchase,\n",
    "    bonus_type = bonus_type,\n",
    "    merchantName2id = merchantName2id,\n",
    "    bonusName2id = bonusName2id,\n",
    ")"
   ]
  },
  {
   "cell_type": "code",
   "execution_count": 10,
   "metadata": {},
   "outputs": [
    {
     "data": {
      "text/plain": [
       "(array([[2.7000000e+01, 4.0000000e+00, 5.6631001e+03, ..., 4.0000000e+00,\n",
       "         7.0000000e+00, 1.7985339e+00],\n",
       "        [2.1000000e+01, 3.0000000e+00, 1.0490000e+02, ..., 0.0000000e+00,\n",
       "         0.0000000e+00, 4.3536243e+00],\n",
       "        [2.9000000e+01, 1.6000000e+01, 2.0592000e+03, ..., 5.0000000e+00,\n",
       "         6.0000000e+00, 4.9366841e+00],\n",
       "        ...,\n",
       "        [2.6000000e+01, 1.7000000e+01, 2.4460001e+02, ..., 0.0000000e+00,\n",
       "         0.0000000e+00, 3.2297750e+00],\n",
       "        [4.7000000e+01, 3.0000000e+00, 1.8600000e+01, ..., 0.0000000e+00,\n",
       "         0.0000000e+00, 4.8991766e+00],\n",
       "        [4.5000000e+01, 1.2000000e+01, 5.3142002e+03, ..., 0.0000000e+00,\n",
       "         0.0000000e+00, 3.2918580e+00]], dtype=float32),\n",
       " array([5, 0, 2, ..., 0, 2, 2], dtype=int32))"
      ]
     },
     "execution_count": 10,
     "metadata": {},
     "output_type": "execute_result"
    }
   ],
   "source": [
    "vectors =  np.array(df_train.apply(vectorize_for_bonus_predict, merchant_id=None, merchants_db=merchants_df, params=service_params, axis=1).to_list())\n",
    "X = vectors[:,:-1].astype(np.float32)\n",
    "y = vectors[:,-1].astype(np.int32)\n",
    "X, y"
   ]
  },
  {
   "cell_type": "code",
   "execution_count": 11,
   "metadata": {},
   "outputs": [
    {
     "name": "stdout",
     "output_type": "stream",
     "text": [
      "      Iter       Train Loss   Remaining Time \n",
      "         1           1.8891            3.01m\n",
      "         2           1.8089            3.12m\n",
      "         3           1.7498            3.15m\n",
      "         4           1.7023            3.16m\n",
      "         5           1.6608            3.16m\n",
      "         6           1.6269            3.14m\n",
      "         7           1.5993            3.14m\n",
      "         8           1.5743            3.12m\n",
      "         9           1.5517            3.08m\n",
      "        10           1.5331            3.05m\n",
      "        20           1.4223            2.69m\n",
      "        30           1.3753            2.33m\n",
      "        40           1.3456            1.98m\n",
      "        50           1.3235            1.64m\n",
      "        60           1.3056            1.30m\n",
      "        70           1.2895           58.79s\n",
      "        80           1.2739           39.60s\n",
      "        90           1.2598           19.98s\n",
      "       100           1.2450            0.00s\n"
     ]
    },
    {
     "data": {
      "text/html": [
       "<style>#sk-container-id-1 {color: black;background-color: white;}#sk-container-id-1 pre{padding: 0;}#sk-container-id-1 div.sk-toggleable {background-color: white;}#sk-container-id-1 label.sk-toggleable__label {cursor: pointer;display: block;width: 100%;margin-bottom: 0;padding: 0.3em;box-sizing: border-box;text-align: center;}#sk-container-id-1 label.sk-toggleable__label-arrow:before {content: \"▸\";float: left;margin-right: 0.25em;color: #696969;}#sk-container-id-1 label.sk-toggleable__label-arrow:hover:before {color: black;}#sk-container-id-1 div.sk-estimator:hover label.sk-toggleable__label-arrow:before {color: black;}#sk-container-id-1 div.sk-toggleable__content {max-height: 0;max-width: 0;overflow: hidden;text-align: left;background-color: #f0f8ff;}#sk-container-id-1 div.sk-toggleable__content pre {margin: 0.2em;color: black;border-radius: 0.25em;background-color: #f0f8ff;}#sk-container-id-1 input.sk-toggleable__control:checked~div.sk-toggleable__content {max-height: 200px;max-width: 100%;overflow: auto;}#sk-container-id-1 input.sk-toggleable__control:checked~label.sk-toggleable__label-arrow:before {content: \"▾\";}#sk-container-id-1 div.sk-estimator input.sk-toggleable__control:checked~label.sk-toggleable__label {background-color: #d4ebff;}#sk-container-id-1 div.sk-label input.sk-toggleable__control:checked~label.sk-toggleable__label {background-color: #d4ebff;}#sk-container-id-1 input.sk-hidden--visually {border: 0;clip: rect(1px 1px 1px 1px);clip: rect(1px, 1px, 1px, 1px);height: 1px;margin: -1px;overflow: hidden;padding: 0;position: absolute;width: 1px;}#sk-container-id-1 div.sk-estimator {font-family: monospace;background-color: #f0f8ff;border: 1px dotted black;border-radius: 0.25em;box-sizing: border-box;margin-bottom: 0.5em;}#sk-container-id-1 div.sk-estimator:hover {background-color: #d4ebff;}#sk-container-id-1 div.sk-parallel-item::after {content: \"\";width: 100%;border-bottom: 1px solid gray;flex-grow: 1;}#sk-container-id-1 div.sk-label:hover label.sk-toggleable__label {background-color: #d4ebff;}#sk-container-id-1 div.sk-serial::before {content: \"\";position: absolute;border-left: 1px solid gray;box-sizing: border-box;top: 0;bottom: 0;left: 50%;z-index: 0;}#sk-container-id-1 div.sk-serial {display: flex;flex-direction: column;align-items: center;background-color: white;padding-right: 0.2em;padding-left: 0.2em;position: relative;}#sk-container-id-1 div.sk-item {position: relative;z-index: 1;}#sk-container-id-1 div.sk-parallel {display: flex;align-items: stretch;justify-content: center;background-color: white;position: relative;}#sk-container-id-1 div.sk-item::before, #sk-container-id-1 div.sk-parallel-item::before {content: \"\";position: absolute;border-left: 1px solid gray;box-sizing: border-box;top: 0;bottom: 0;left: 50%;z-index: -1;}#sk-container-id-1 div.sk-parallel-item {display: flex;flex-direction: column;z-index: 1;position: relative;background-color: white;}#sk-container-id-1 div.sk-parallel-item:first-child::after {align-self: flex-end;width: 50%;}#sk-container-id-1 div.sk-parallel-item:last-child::after {align-self: flex-start;width: 50%;}#sk-container-id-1 div.sk-parallel-item:only-child::after {width: 0;}#sk-container-id-1 div.sk-dashed-wrapped {border: 1px dashed gray;margin: 0 0.4em 0.5em 0.4em;box-sizing: border-box;padding-bottom: 0.4em;background-color: white;}#sk-container-id-1 div.sk-label label {font-family: monospace;font-weight: bold;display: inline-block;line-height: 1.2em;}#sk-container-id-1 div.sk-label-container {text-align: center;}#sk-container-id-1 div.sk-container {/* jupyter's `normalize.less` sets `[hidden] { display: none; }` but bootstrap.min.css set `[hidden] { display: none !important; }` so we also need the `!important` here to be able to override the default hidden behavior on the sphinx rendered scikit-learn.org. See: https://github.com/scikit-learn/scikit-learn/issues/21755 */display: inline-block !important;position: relative;}#sk-container-id-1 div.sk-text-repr-fallback {display: none;}</style><div id=\"sk-container-id-1\" class=\"sk-top-container\"><div class=\"sk-text-repr-fallback\"><pre>GradientBoostingClassifier(verbose=1)</pre><b>In a Jupyter environment, please rerun this cell to show the HTML representation or trust the notebook. <br />On GitHub, the HTML representation is unable to render, please try loading this page with nbviewer.org.</b></div><div class=\"sk-container\" hidden><div class=\"sk-item\"><div class=\"sk-estimator sk-toggleable\"><input class=\"sk-toggleable__control sk-hidden--visually\" id=\"sk-estimator-id-1\" type=\"checkbox\" checked><label for=\"sk-estimator-id-1\" class=\"sk-toggleable__label sk-toggleable__label-arrow\">GradientBoostingClassifier</label><div class=\"sk-toggleable__content\"><pre>GradientBoostingClassifier(verbose=1)</pre></div></div></div></div></div>"
      ],
      "text/plain": [
       "GradientBoostingClassifier(verbose=1)"
      ]
     },
     "execution_count": 11,
     "metadata": {},
     "output_type": "execute_result"
    }
   ],
   "source": [
    "gbc_clf = GradientBoostingClassifier(verbose=1)\n",
    "gbc_clf.fit(X, y)"
   ]
  },
  {
   "cell_type": "code",
   "execution_count": 12,
   "metadata": {},
   "outputs": [
    {
     "data": {
      "text/plain": [
       "array([5, 0, 6, 0, 0])"
      ]
     },
     "execution_count": 12,
     "metadata": {},
     "output_type": "execute_result"
    }
   ],
   "source": [
    "gbc_clf.predict_proba(X[5:10]).argmax(axis=1)"
   ]
  },
  {
   "cell_type": "code",
   "execution_count": 13,
   "metadata": {},
   "outputs": [
    {
     "data": {
      "text/plain": [
       "array([[2.7000000e+01, 4.0000000e+00, 5.6631001e+03, ..., 0.0000000e+00,\n",
       "        0.0000000e+00, 1.7985339e+00],\n",
       "       [2.1000000e+01, 3.0000000e+00, 1.0490000e+02, ..., 0.0000000e+00,\n",
       "        0.0000000e+00, 4.3536243e+00],\n",
       "       [2.9000000e+01, 1.6000000e+01, 2.0592000e+03, ..., 0.0000000e+00,\n",
       "        0.0000000e+00, 4.9366841e+00],\n",
       "       ...,\n",
       "       [2.6000000e+01, 1.7000000e+01, 2.4460001e+02, ..., 0.0000000e+00,\n",
       "        0.0000000e+00, 3.2297750e+00],\n",
       "       [4.7000000e+01, 3.0000000e+00, 1.8600000e+01, ..., 0.0000000e+00,\n",
       "        0.0000000e+00, 4.8991766e+00],\n",
       "       [4.5000000e+01, 1.2000000e+01, 5.3142002e+03, ..., 0.0000000e+00,\n",
       "        0.0000000e+00, 3.2918580e+00]], dtype=float32)"
      ]
     },
     "execution_count": 13,
     "metadata": {},
     "output_type": "execute_result"
    }
   ],
   "source": [
    "vectors =  np.array(df_train.apply(vectorize_for_neighbours_predict, params=service_params, axis=1).to_list())\n",
    "X = vectors.astype(np.float32)\n",
    "X"
   ]
  },
  {
   "cell_type": "code",
   "execution_count": 14,
   "metadata": {},
   "outputs": [
    {
     "data": {
      "text/html": [
       "<style>#sk-container-id-2 {color: black;background-color: white;}#sk-container-id-2 pre{padding: 0;}#sk-container-id-2 div.sk-toggleable {background-color: white;}#sk-container-id-2 label.sk-toggleable__label {cursor: pointer;display: block;width: 100%;margin-bottom: 0;padding: 0.3em;box-sizing: border-box;text-align: center;}#sk-container-id-2 label.sk-toggleable__label-arrow:before {content: \"▸\";float: left;margin-right: 0.25em;color: #696969;}#sk-container-id-2 label.sk-toggleable__label-arrow:hover:before {color: black;}#sk-container-id-2 div.sk-estimator:hover label.sk-toggleable__label-arrow:before {color: black;}#sk-container-id-2 div.sk-toggleable__content {max-height: 0;max-width: 0;overflow: hidden;text-align: left;background-color: #f0f8ff;}#sk-container-id-2 div.sk-toggleable__content pre {margin: 0.2em;color: black;border-radius: 0.25em;background-color: #f0f8ff;}#sk-container-id-2 input.sk-toggleable__control:checked~div.sk-toggleable__content {max-height: 200px;max-width: 100%;overflow: auto;}#sk-container-id-2 input.sk-toggleable__control:checked~label.sk-toggleable__label-arrow:before {content: \"▾\";}#sk-container-id-2 div.sk-estimator input.sk-toggleable__control:checked~label.sk-toggleable__label {background-color: #d4ebff;}#sk-container-id-2 div.sk-label input.sk-toggleable__control:checked~label.sk-toggleable__label {background-color: #d4ebff;}#sk-container-id-2 input.sk-hidden--visually {border: 0;clip: rect(1px 1px 1px 1px);clip: rect(1px, 1px, 1px, 1px);height: 1px;margin: -1px;overflow: hidden;padding: 0;position: absolute;width: 1px;}#sk-container-id-2 div.sk-estimator {font-family: monospace;background-color: #f0f8ff;border: 1px dotted black;border-radius: 0.25em;box-sizing: border-box;margin-bottom: 0.5em;}#sk-container-id-2 div.sk-estimator:hover {background-color: #d4ebff;}#sk-container-id-2 div.sk-parallel-item::after {content: \"\";width: 100%;border-bottom: 1px solid gray;flex-grow: 1;}#sk-container-id-2 div.sk-label:hover label.sk-toggleable__label {background-color: #d4ebff;}#sk-container-id-2 div.sk-serial::before {content: \"\";position: absolute;border-left: 1px solid gray;box-sizing: border-box;top: 0;bottom: 0;left: 50%;z-index: 0;}#sk-container-id-2 div.sk-serial {display: flex;flex-direction: column;align-items: center;background-color: white;padding-right: 0.2em;padding-left: 0.2em;position: relative;}#sk-container-id-2 div.sk-item {position: relative;z-index: 1;}#sk-container-id-2 div.sk-parallel {display: flex;align-items: stretch;justify-content: center;background-color: white;position: relative;}#sk-container-id-2 div.sk-item::before, #sk-container-id-2 div.sk-parallel-item::before {content: \"\";position: absolute;border-left: 1px solid gray;box-sizing: border-box;top: 0;bottom: 0;left: 50%;z-index: -1;}#sk-container-id-2 div.sk-parallel-item {display: flex;flex-direction: column;z-index: 1;position: relative;background-color: white;}#sk-container-id-2 div.sk-parallel-item:first-child::after {align-self: flex-end;width: 50%;}#sk-container-id-2 div.sk-parallel-item:last-child::after {align-self: flex-start;width: 50%;}#sk-container-id-2 div.sk-parallel-item:only-child::after {width: 0;}#sk-container-id-2 div.sk-dashed-wrapped {border: 1px dashed gray;margin: 0 0.4em 0.5em 0.4em;box-sizing: border-box;padding-bottom: 0.4em;background-color: white;}#sk-container-id-2 div.sk-label label {font-family: monospace;font-weight: bold;display: inline-block;line-height: 1.2em;}#sk-container-id-2 div.sk-label-container {text-align: center;}#sk-container-id-2 div.sk-container {/* jupyter's `normalize.less` sets `[hidden] { display: none; }` but bootstrap.min.css set `[hidden] { display: none !important; }` so we also need the `!important` here to be able to override the default hidden behavior on the sphinx rendered scikit-learn.org. See: https://github.com/scikit-learn/scikit-learn/issues/21755 */display: inline-block !important;position: relative;}#sk-container-id-2 div.sk-text-repr-fallback {display: none;}</style><div id=\"sk-container-id-2\" class=\"sk-top-container\"><div class=\"sk-text-repr-fallback\"><pre>NearestNeighbors(algorithm=&#x27;ball_tree&#x27;)</pre><b>In a Jupyter environment, please rerun this cell to show the HTML representation or trust the notebook. <br />On GitHub, the HTML representation is unable to render, please try loading this page with nbviewer.org.</b></div><div class=\"sk-container\" hidden><div class=\"sk-item\"><div class=\"sk-estimator sk-toggleable\"><input class=\"sk-toggleable__control sk-hidden--visually\" id=\"sk-estimator-id-2\" type=\"checkbox\" checked><label for=\"sk-estimator-id-2\" class=\"sk-toggleable__label sk-toggleable__label-arrow\">NearestNeighbors</label><div class=\"sk-toggleable__content\"><pre>NearestNeighbors(algorithm=&#x27;ball_tree&#x27;)</pre></div></div></div></div></div>"
      ],
      "text/plain": [
       "NearestNeighbors(algorithm='ball_tree')"
      ]
     },
     "execution_count": 14,
     "metadata": {},
     "output_type": "execute_result"
    }
   ],
   "source": [
    "nbrs_clf = NearestNeighbors(n_neighbors=5, algorithm='ball_tree')\n",
    "nbrs_clf.fit(X)"
   ]
  },
  {
   "cell_type": "code",
   "execution_count": 15,
   "metadata": {},
   "outputs": [
    {
     "data": {
      "text/plain": [
       "(        age                                   purchase_history    rating  \\\n",
       " 0      27.0  [[home and kitchen, 5663.1], [books and media,...  1.798534   \n",
       " 17926  20.0  [[baby and kids, 162.0], [travel and leisure, ...  4.832107   \n",
       " 728    27.0  [[music, 1133.9], [garden and outdoor, 5027.1]...  4.979469   \n",
       " 2701   37.0  [[fashion, 788.0], [sports and fitness, 2105.9...  4.706651   \n",
       " 10352  21.0  [[industrial and scientific, 3267.1], [baby an...  4.320998   \n",
       " \n",
       "        current_merchant_id bonus_to_offer  \n",
       " 0                      808        up-sell  \n",
       " 17926                  127       discount  \n",
       " 728                    157       cashback  \n",
       " 2701                   601                 \n",
       " 10352                  780       cashback  ,\n",
       " array([[    0.        , 44049.20845958, 48455.12789721, 49455.35696496,\n",
       "         49871.70359641]]))"
      ]
     },
     "execution_count": 15,
     "metadata": {},
     "output_type": "execute_result"
    }
   ],
   "source": [
    "distances, indices = nbrs_clf.kneighbors(X[:1])\n",
    "nearest = df_train.iloc[indices[0]]\n",
    "nearest, distances"
   ]
  },
  {
   "cell_type": "code",
   "execution_count": 16,
   "metadata": {},
   "outputs": [],
   "source": [
    "# Import models and data for inference\n",
    "\n",
    "gbc_filename = 'data/gbc.clf'\n",
    "nbrs_filename = 'data/nbrs.clf'\n",
    "service_params_filename = 'data/service.params'\n",
    "pickle.dump(gbc_clf, open(gbc_filename, 'wb'))\n",
    "pickle.dump(nbrs_clf, open(nbrs_filename, 'wb'))\n",
    "pickle.dump(service_params, open(service_params_filename, 'wb'))\n",
    "df_train.to_csv('data/train_db.csv', index=False)\n",
    "df_test.to_csv('data/test_db.csv', index=False)\n",
    "merchants_df.to_csv('data/merchants_db.csv', index=False)"
   ]
  }
 ],
 "metadata": {
  "kernelspec": {
   "display_name": "sharedenv",
   "language": "python",
   "name": "python3"
  },
  "language_info": {
   "codemirror_mode": {
    "name": "ipython",
    "version": 3
   },
   "file_extension": ".py",
   "mimetype": "text/x-python",
   "name": "python",
   "nbconvert_exporter": "python",
   "pygments_lexer": "ipython3",
   "version": "3.10.6"
  },
  "orig_nbformat": 4
 },
 "nbformat": 4,
 "nbformat_minor": 2
}
